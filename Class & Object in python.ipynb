{
 "cells": [
  {
   "cell_type": "markdown",
   "id": "899e8437",
   "metadata": {},
   "source": [
    "# Class & Objects\n",
    "\n",
    "    # just like everything in the real world is an object, so is the case with oops programming paradigm\n",
    "    \n",
    "    # a class is a blueprint for similar objects"
   ]
  },
  {
   "cell_type": "code",
   "execution_count": 29,
   "id": "7ab4223c",
   "metadata": {},
   "outputs": [
    {
     "name": "stdout",
     "output_type": "stream",
     "text": [
      "I am MahendraN\n",
      "Eligible for vote\n"
     ]
    }
   ],
   "source": [
    "class person:\n",
    "    def __init__(self):\n",
    "        self.name=\"MahendraN\"\n",
    "        self.age=22\n",
    "    def talk(self):\n",
    "        print(\"I am\",self.name)\n",
    "    \n",
    "    def vote(self):\n",
    "        if self.age<18:\n",
    "            print(\"Not Eligible for vote \")\n",
    "        else:\n",
    "            print(\"Eligible for vote\")\n",
    "obj=person()\n",
    "obj.talk()\n",
    "obj.vote()"
   ]
  },
  {
   "cell_type": "code",
   "execution_count": 42,
   "id": "3898f567",
   "metadata": {},
   "outputs": [
    {
     "name": "stdout",
     "output_type": "stream",
     "text": [
      "I am Mahendrakumar\n",
      "Eligible for vote\n",
      "The person is Male \n"
     ]
    }
   ],
   "source": [
    "class person:\n",
    "    def __init__(self,n,m,a):    # here using the variable for storing the values n=mahendrakumar, m=male, a=21.\n",
    "        self.name=n\n",
    "        self.gen=m\n",
    "        self.age=a\n",
    "    def talk(self):\n",
    "        print(\"I am\",self.name)\n",
    "    \n",
    "    def vote(self):\n",
    "        if self.age<18:\n",
    "            print(\"Not Eligible for vote \")\n",
    "        else:\n",
    "            print(\"Eligible for vote\")\n",
    "    def gender(self):\n",
    "        if self.gen==\"Male\":\n",
    "            print(\"The person is Male \")\n",
    "        else:\n",
    "            print(\"The person is not Male\")\n",
    "            \n",
    "obj=person(\"Mahendrakumar\",\"Male\",21)\n",
    "obj.talk()\n",
    "obj.vote()\n",
    "obj.gender()"
   ]
  },
  {
   "cell_type": "markdown",
   "id": "78b765fc",
   "metadata": {},
   "source": [
    "# Using two objects"
   ]
  },
  {
   "cell_type": "code",
   "execution_count": 46,
   "id": "905b4300",
   "metadata": {},
   "outputs": [
    {
     "name": "stdout",
     "output_type": "stream",
     "text": [
      "I am Mahendrakumar\n",
      "Eligible for vote\n",
      "The person is Male \n",
      "\n",
      "I am MahendraN\n",
      "Eligible for vote\n",
      "The person is not Male\n"
     ]
    }
   ],
   "source": [
    "class person:\n",
    "    def __init__(self,n,m,a):\n",
    "        self.name=n\n",
    "        self.gen=m\n",
    "        self.age=a\n",
    "    def talk(self):\n",
    "        print(\"\\nI am\",self.name)\n",
    "    \n",
    "    def vote(self):\n",
    "        if self.age<18:\n",
    "            print(\"Not Eligible for vote \")\n",
    "        else:\n",
    "            print(\"Eligible for vote\")\n",
    "    def gender(self):\n",
    "        if self.gen==\"Male\":\n",
    "            print(\"The person is Male \")\n",
    "        else:\n",
    "            print(\"The person is not Male\")\n",
    "            \n",
    "obj1=person(\"Mahendrakumar\",\"Male\",21)\n",
    "obj2=person(\"MahendraN\",\"Female\",24)\n",
    "obj.talk()\n",
    "obj.vote()\n",
    "obj.gender()\n",
    "\n",
    "\n",
    "obj2.talk()\n",
    "obj2.vote()\n",
    "obj2.gender()"
   ]
  },
  {
   "cell_type": "code",
   "execution_count": null,
   "id": "05dafae9",
   "metadata": {},
   "outputs": [],
   "source": []
  },
  {
   "cell_type": "code",
   "execution_count": 173,
   "id": "b880db9c",
   "metadata": {
    "scrolled": true
   },
   "outputs": [
    {
     "name": "stdout",
     "output_type": "stream",
     "text": [
      "Maximum Speed is: 160 mph\n",
      "137\n",
      "trunk\n",
      "127\n"
     ]
    }
   ],
   "source": [
    "class car:\n",
    "    def __init__(self):\n",
    "        self.year=\"1990\"\n",
    "        self.speed=\"160 mph\"\n",
    "    def peed(self):\n",
    "        print(\"Maximum Speed is:\",self.speed)\n",
    "ob=car()\n",
    "ob.peed()\n",
    "class sedan(car):\n",
    "    def access(self):\n",
    "            print('137')\n",
    "    def opentrunk(self):\n",
    "        print(\"trunk\")    \n",
    "class suv(car):\n",
    "    def access(self):\n",
    "        print(\"127\")\n",
    "honda=sedan()\n",
    "honda.access()\n",
    "honda.opentrunk()\n",
    "\n",
    "new=suv()\n",
    "new.access()\n",
    "\n"
   ]
  },
  {
   "cell_type": "code",
   "execution_count": null,
   "id": "477c00a0",
   "metadata": {},
   "outputs": [],
   "source": []
  },
  {
   "cell_type": "code",
   "execution_count": null,
   "id": "03ca4d92",
   "metadata": {},
   "outputs": [],
   "source": []
  },
  {
   "cell_type": "code",
   "execution_count": null,
   "id": "c1e3688b",
   "metadata": {},
   "outputs": [],
   "source": []
  },
  {
   "cell_type": "code",
   "execution_count": null,
   "id": "db117577",
   "metadata": {},
   "outputs": [],
   "source": []
  },
  {
   "cell_type": "code",
   "execution_count": null,
   "id": "daae2830",
   "metadata": {},
   "outputs": [],
   "source": []
  },
  {
   "cell_type": "code",
   "execution_count": null,
   "id": "4cff8c47",
   "metadata": {},
   "outputs": [],
   "source": []
  },
  {
   "cell_type": "code",
   "execution_count": null,
   "id": "d9bc75dd",
   "metadata": {},
   "outputs": [],
   "source": []
  }
 ],
 "metadata": {
  "kernelspec": {
   "display_name": "Python 3 (ipykernel)",
   "language": "python",
   "name": "python3"
  },
  "language_info": {
   "codemirror_mode": {
    "name": "ipython",
    "version": 3
   },
   "file_extension": ".py",
   "mimetype": "text/x-python",
   "name": "python",
   "nbconvert_exporter": "python",
   "pygments_lexer": "ipython3",
   "version": "3.9.12"
  }
 },
 "nbformat": 4,
 "nbformat_minor": 5
}
