{
 "cells": [
  {
   "cell_type": "markdown",
   "id": "265049a3",
   "metadata": {},
   "source": [
    "# Python Scripting"
   ]
  },
  {
   "cell_type": "code",
   "execution_count": 4,
   "id": "18fe56fe",
   "metadata": {},
   "outputs": [
    {
     "name": "stdout",
     "output_type": "stream",
     "text": [
      "C:\\Users\\Administrator\n"
     ]
    }
   ],
   "source": [
    "import os\n",
    "\n",
    "def current_directory():             # show the current directory\n",
    "    cwd=os.getcwd()\n",
    "    print(cwd)\n",
    "current_directory()"
   ]
  },
  {
   "cell_type": "code",
   "execution_count": 24,
   "id": "0f0c8620",
   "metadata": {},
   "outputs": [
    {
     "name": "stdout",
     "output_type": "stream",
     "text": [
      "C:\\Users\\Administrator\n",
      "C:\\Users\\Administrator\\hi.txt\n"
     ]
    }
   ],
   "source": [
    "import os\n",
    "\n",
    "def current_directory():                  # print the particular file path \n",
    "    cwd=os.getcwd()\n",
    "    print(cwd)\n",
    "def file_path(filename):\n",
    "    path=os.path.abspath((filename))\n",
    "    print(path)\n",
    "current_directory()\n",
    "file_path(filename=\"hi.txt\")"
   ]
  },
  {
   "cell_type": "code",
   "execution_count": 40,
   "id": "cff6d30b",
   "metadata": {},
   "outputs": [
    {
     "name": "stdout",
     "output_type": "stream",
     "text": [
      "1662041413.9387257\n",
      "time.struct_time(tm_year=2022, tm_mon=9, tm_mday=1, tm_hour=19, tm_min=40, tm_sec=13, tm_wday=3, tm_yday=244, tm_isdst=0)\n",
      "2022\n",
      "Thu Sep  1 19:40:13 2022\n"
     ]
    }
   ],
   "source": [
    "import time\n",
    "t=time.time()\n",
    "print(t)\n",
    "localtime=time.localtime(t)    # print the year,month,time\n",
    "print(localtime)\n",
    "print(localtime.tm_year)       # print the year only\n",
    "print(time.ctime())            # print the day, month, date, time"
   ]
  },
  {
   "cell_type": "code",
   "execution_count": null,
   "id": "df3e9520",
   "metadata": {},
   "outputs": [],
   "source": []
  },
  {
   "cell_type": "code",
   "execution_count": 64,
   "id": "3425eab7",
   "metadata": {},
   "outputs": [
    {
     "name": "stdout",
     "output_type": "stream",
     "text": [
      "hi hello\n"
     ]
    }
   ],
   "source": [
    "from os import path\n",
    "\n",
    "def createFile(dest):\n",
    "    if not(path.isfile(dest)):\n",
    "        f=open(dest,'w')\n",
    "        f.write('Hello')\n",
    "        f.close()\n",
    "createFile(dest='C:\\\\Users\\\\Administrator\\\\Music\\\\sample')\n",
    "print(\"hi hello\")"
   ]
  },
  {
   "cell_type": "code",
   "execution_count": 71,
   "id": "835ed2bb",
   "metadata": {},
   "outputs": [
    {
     "name": "stdout",
     "output_type": "stream",
     "text": [
      "10\n",
      "20\n",
      "40\n",
      "25\n"
     ]
    }
   ],
   "source": [
    "def fun1(*args):          # number of values are printed\n",
    "    for i in args:\n",
    "        print(i)\n",
    "    \n",
    "fun1(10,20,40,25)"
   ]
  },
  {
   "cell_type": "code",
   "execution_count": 80,
   "id": "5631c899",
   "metadata": {},
   "outputs": [
    {
     "name": "stdout",
     "output_type": "stream",
     "text": [
      "('a', 10)\n",
      "('b', 20)\n",
      "('c', 40)\n",
      "('d', 25)\n"
     ]
    }
   ],
   "source": [
    "def fun1(**kwargs):          # number of values are printed with the variable names\n",
    "    for i in kwargs.items():\n",
    "        print(i)\n",
    "    \n",
    "fun1(a=10,b=20,c=40,d=25)"
   ]
  },
  {
   "cell_type": "code",
   "execution_count": 85,
   "id": "14ea5fe9",
   "metadata": {},
   "outputs": [
    {
     "name": "stdout",
     "output_type": "stream",
     "text": [
      "12\n"
     ]
    }
   ],
   "source": [
    "def fun():\n",
    "    x=10\n",
    "    def fun(x):\n",
    "        return x+2\n",
    "    return fun(x)\n",
    "result=fun()\n",
    "print(result)"
   ]
  },
  {
   "cell_type": "code",
   "execution_count": 86,
   "id": "95a76de3",
   "metadata": {},
   "outputs": [
    {
     "name": "stdout",
     "output_type": "stream",
     "text": [
      "This is the first function\n",
      "This is the second function\n",
      "This is the outer function\n"
     ]
    }
   ],
   "source": [
    "def fun(call_fun):\n",
    "    print(\"This is the first function\")\n",
    "    def secondfun(call_fun):\n",
    "        print(\"This is the second function\")\n",
    "        call_fun()\n",
    "    return secondfun(call_fun)\n",
    "def outerfun():\n",
    "    print(\"This is the outer function\")\n",
    "    \n",
    "obj=fun(outerfun)"
   ]
  },
  {
   "cell_type": "code",
   "execution_count": null,
   "id": "7e70de06",
   "metadata": {},
   "outputs": [],
   "source": []
  },
  {
   "cell_type": "code",
   "execution_count": null,
   "id": "5d660fea",
   "metadata": {},
   "outputs": [],
   "source": []
  }
 ],
 "metadata": {
  "kernelspec": {
   "display_name": "Python 3 (ipykernel)",
   "language": "python",
   "name": "python3"
  },
  "language_info": {
   "codemirror_mode": {
    "name": "ipython",
    "version": 3
   },
   "file_extension": ".py",
   "mimetype": "text/x-python",
   "name": "python",
   "nbconvert_exporter": "python",
   "pygments_lexer": "ipython3",
   "version": "3.9.12"
  }
 },
 "nbformat": 4,
 "nbformat_minor": 5
}
