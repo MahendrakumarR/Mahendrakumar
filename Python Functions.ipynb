{
 "cells": [
  {
   "cell_type": "markdown",
   "id": "2d4080e6",
   "metadata": {},
   "source": [
    "# PYTHON FUNCTIONS\n",
    "    ~A function is a block of code which only runs when it is called.\n",
    "    ~You can pass data, known as parameters, into a function.\n",
    "    ~A function can return data as a result.\n"
   ]
  },
  {
   "cell_type": "markdown",
   "id": "69e89923",
   "metadata": {},
   "source": [
    "# Creating a Function"
   ]
  },
  {
   "cell_type": "code",
   "execution_count": 3,
   "id": "f8a53a21",
   "metadata": {},
   "outputs": [],
   "source": [
    "def my_function():                 # In Python a function is defined using the def keyword\n",
    "    print(\"Hello from a function\") # The print function can't print brcause function not call\n"
   ]
  },
  {
   "cell_type": "markdown",
   "id": "f2aa0b66",
   "metadata": {},
   "source": [
    "# Calling a function"
   ]
  },
  {
   "cell_type": "code",
   "execution_count": 5,
   "id": "bb7aed89",
   "metadata": {},
   "outputs": [
    {
     "name": "stdout",
     "output_type": "stream",
     "text": [
      "Hello from a function\n"
     ]
    }
   ],
   "source": [
    "def my_function():\n",
    "    print(\"Hello from a function\")\n",
    "my_function()                      # The function is called"
   ]
  },
  {
   "cell_type": "markdown",
   "id": "7f1172b1",
   "metadata": {},
   "source": [
    "# Arguments"
   ]
  },
  {
   "cell_type": "code",
   "execution_count": 19,
   "id": "cd8f13f5",
   "metadata": {},
   "outputs": [
    {
     "name": "stdout",
     "output_type": "stream",
     "text": [
      "Hi MahendraN\n"
     ]
    }
   ],
   "source": [
    "def my_function(name):        # information can be passed into functions as arguments.\n",
    "    print(\"Hi \" +name)        # A parameter is the variable listed inside the parentheses in the function definition.\n",
    "my_function(\"MahendraN\")      # An argument is the value that is sent to the function when it is called."
   ]
  },
  {
   "cell_type": "markdown",
   "id": "82351e81",
   "metadata": {},
   "source": [
    "# Number of Arguments"
   ]
  },
  {
   "cell_type": "code",
   "execution_count": 26,
   "id": "76cba31c",
   "metadata": {},
   "outputs": [
    {
     "name": "stdout",
     "output_type": "stream",
     "text": [
      "Mahendra Kumar\n"
     ]
    }
   ],
   "source": [
    "def my_function(fname, lname):\n",
    "    print(fname +\" \"+ lname)\n",
    "my_function(\"Mahendra\",\"Kumar\")"
   ]
  },
  {
   "cell_type": "code",
   "execution_count": 27,
   "id": "eb27727f",
   "metadata": {},
   "outputs": [
    {
     "name": "stdout",
     "output_type": "stream",
     "text": [
      "MahendraKumar\n"
     ]
    }
   ],
   "source": [
    "def my_function(fname, lname):\n",
    "    print(fname + lname)          # Same as the above code\n",
    "my_function(\"Mahendra\",\"Kumar\")"
   ]
  },
  {
   "cell_type": "code",
   "execution_count": 29,
   "id": "1a74ae87",
   "metadata": {},
   "outputs": [
    {
     "ename": "TypeError",
     "evalue": "my_function() missing 1 required positional argument: 'lname'",
     "output_type": "error",
     "traceback": [
      "\u001b[1;31m---------------------------------------------------------------------------\u001b[0m",
      "\u001b[1;31mTypeError\u001b[0m                                 Traceback (most recent call last)",
      "Input \u001b[1;32mIn [29]\u001b[0m, in \u001b[0;36m<cell line: 3>\u001b[1;34m()\u001b[0m\n\u001b[0;32m      1\u001b[0m \u001b[38;5;28;01mdef\u001b[39;00m \u001b[38;5;21mmy_function\u001b[39m(fname, lname):\n\u001b[0;32m      2\u001b[0m     \u001b[38;5;28mprint\u001b[39m(fname \u001b[38;5;241m+\u001b[39m \u001b[38;5;124m\"\u001b[39m\u001b[38;5;124m \u001b[39m\u001b[38;5;124m\"\u001b[39m \u001b[38;5;241m+\u001b[39m lname)     \u001b[38;5;66;03m# Get error because one arument are there we need two arguments\u001b[39;00m\n\u001b[1;32m----> 3\u001b[0m \u001b[43mmy_function\u001b[49m\u001b[43m(\u001b[49m\u001b[38;5;124;43m\"\u001b[39;49m\u001b[38;5;124;43mEmil\u001b[39;49m\u001b[38;5;124;43m\"\u001b[39;49m\u001b[43m)\u001b[49m\n",
      "\u001b[1;31mTypeError\u001b[0m: my_function() missing 1 required positional argument: 'lname'"
     ]
    }
   ],
   "source": [
    "def my_function(fname, lname):\n",
    "    print(fname + \" \" + lname)     # Get error because one arument are there we need two arguments\n",
    "my_function(\"Emil\")\n"
   ]
  },
  {
   "cell_type": "markdown",
   "id": "3a527cc4",
   "metadata": {},
   "source": [
    "#  Arbitrary Arguments, *args\n",
    "    \n",
    "     ~If you do not know how many arguments that will be passed into your function, add a * before the parameter name in the                   function definition.\n",
    "     \n",
    "     ~This way the function will receive a tuple of arguments, and can access the items accordingly"
   ]
  },
  {
   "cell_type": "code",
   "execution_count": 47,
   "id": "2cff8325",
   "metadata": {},
   "outputs": [
    {
     "name": "stdout",
     "output_type": "stream",
     "text": [
      "The youngest child is MahendraN\n"
     ]
    }
   ],
   "source": [
    "def my_function(*kids):\n",
    "    print(\"The youngest child is \"+ kids[0]) # 0 th position Name printrd \n",
    "my_function(\"MahendraN\",\"Jhon\",\"Dany\")\n"
   ]
  },
  {
   "cell_type": "code",
   "execution_count": 48,
   "id": "2ea70bcf",
   "metadata": {},
   "outputs": [
    {
     "name": "stdout",
     "output_type": "stream",
     "text": [
      "The youngest child is  MahendraN Jhon Dany\n"
     ]
    }
   ],
   "source": [
    "def my_function(*kids):\n",
    "    print(\"The youngest child is \",*kids) # print all kids name\n",
    "my_function(\"MahendraN\",\"Jhon\",\"Dany\")"
   ]
  },
  {
   "cell_type": "markdown",
   "id": "e54e1268",
   "metadata": {},
   "source": [
    "#  Keyword Arguments\n",
    "    ~ You can also send arguments with the key = value syntax.\n",
    "    ~This way the order of the arguments does not matter."
   ]
  },
  {
   "cell_type": "code",
   "execution_count": 58,
   "id": "3e3c53d1",
   "metadata": {},
   "outputs": [
    {
     "name": "stdout",
     "output_type": "stream",
     "text": [
      "The youngest child is Jhon Dany\n"
     ]
    }
   ],
   "source": [
    " def my_function(child3, child2, child1):\n",
    "    print(\"The youngest child is \" + child2,child3)\n",
    "my_function(child1 = \"MahendraN\",child2 = \"Jhon\", child3= \"Dany\")\n"
   ]
  },
  {
   "cell_type": "markdown",
   "id": "fab6d0cf",
   "metadata": {},
   "source": [
    "# Arbitrary Keyword Arguments, **kwargs\n",
    "    ~If you do not know how many keyword arguments that will be passed into your function, add two asterisk: ** before the parameter name in the function definition.\n",
    "    \n",
    "    ~ This way the function will receive a dictionary of arguments, and can access the items accordingly"
   ]
  },
  {
   "cell_type": "code",
   "execution_count": 76,
   "id": "3b8247ff",
   "metadata": {},
   "outputs": [
    {
     "name": "stdout",
     "output_type": "stream",
     "text": [
      "His last name is Kumar\n"
     ]
    }
   ],
   "source": [
    "def my_function(**kid):\n",
    "    print(\"His last name is \" + kid[\"lname\"])\n",
    "my_function(fname = \"Mahendra\", lname = \"Kumar\")"
   ]
  },
  {
   "cell_type": "code",
   "execution_count": 84,
   "id": "299403dd",
   "metadata": {},
   "outputs": [
    {
     "name": "stdout",
     "output_type": "stream",
     "text": [
      "His last name is  K u m a r\n"
     ]
    }
   ],
   "source": [
    "def my_function(**kid):\n",
    "    print(\"His last name is \",*kid[\"lname\"])\n",
    "my_function(fname = \"Mahendra\", lname = \"Kumar\")"
   ]
  },
  {
   "cell_type": "markdown",
   "id": "597c4563",
   "metadata": {},
   "source": [
    "# Default Parameter Value\n",
    "    ~If we call the function without argument, it uses the default value."
   ]
  },
  {
   "cell_type": "code",
   "execution_count": 86,
   "id": "fa47e65f",
   "metadata": {},
   "outputs": [
    {
     "name": "stdout",
     "output_type": "stream",
     "text": [
      "I am from Sweden\n"
     ]
    }
   ],
   "source": [
    "def my_function(country = \"Norway\"):\n",
    "    print(\"I am from \" + country)\n",
    "my_function(\"Sweden\")\n"
   ]
  },
  {
   "cell_type": "code",
   "execution_count": 89,
   "id": "d25a475c",
   "metadata": {},
   "outputs": [
    {
     "name": "stdout",
     "output_type": "stream",
     "text": [
      "I am from Sweden\n",
      "I am from India\n",
      "I am from Norway\n",
      "I am from Brazil\n"
     ]
    }
   ],
   "source": [
    "def my_function(country = \"Norway\"):\n",
    "    print(\"I am from \" + country)\n",
    "my_function(\"Sweden\")\n",
    "my_function(\"India\")\n",
    "my_function()                       # Empty the value then fuction get a default value of Norway\n",
    "my_function(\"Brazil\")"
   ]
  },
  {
   "cell_type": "markdown",
   "id": "0a30d565",
   "metadata": {},
   "source": [
    "#  Passing a List as an Argument\n",
    "    ~You can send any data types of argument to a function (string,number, list, dictionary etc.), and it will be treated as the same data type inside the function."
   ]
  },
  {
   "cell_type": "code",
   "execution_count": 108,
   "id": "552f8f86",
   "metadata": {},
   "outputs": [
    {
     "name": "stdout",
     "output_type": "stream",
     "text": [
      "apple\n",
      "banana\n",
      "cherry\n"
     ]
    }
   ],
   "source": [
    "def my_function():\n",
    "    fruits = [\"apple\", \"banana\", \"cherry\"]\n",
    "    for x in fruits:\n",
    "        print(x)\n",
    "my_function()"
   ]
  },
  {
   "cell_type": "code",
   "execution_count": 97,
   "id": "b7c092f1",
   "metadata": {},
   "outputs": [
    {
     "name": "stdout",
     "output_type": "stream",
     "text": [
      "apple\n",
      "banana\n",
      "cherry\n"
     ]
    }
   ],
   "source": [
    "def my_function(food):\n",
    "    for x in food:       # Using variable of food\n",
    "        print(x)\n",
    "fruits = [\"apple\", \"banana\", \"cherry\"]\n",
    "my_function(fruits)"
   ]
  },
  {
   "cell_type": "markdown",
   "id": "5d3f72c6",
   "metadata": {},
   "source": [
    "# Return Values\n",
    "    ~To let a function return a value, use the return statement"
   ]
  },
  {
   "cell_type": "code",
   "execution_count": 151,
   "id": "eb68b570",
   "metadata": {},
   "outputs": [
    {
     "name": "stdout",
     "output_type": "stream",
     "text": [
      "25\n",
      "45\n",
      "15\n"
     ]
    }
   ],
   "source": [
    "def my_function(x):\n",
    "    return 5 * x\n",
    "print(my_function(5))\n",
    "print(my_function(9))\n",
    "print(my_function(3))\n"
   ]
  },
  {
   "cell_type": "markdown",
   "id": "498a88bc",
   "metadata": {},
   "source": [
    "#  The pass Statement \n",
    "     ~function definitions cannot be empty, but if you for some reason have a function definition with no content.\n",
    "     ~ put in the pass statement to avoid getting an error."
   ]
  },
  {
   "cell_type": "code",
   "execution_count": 152,
   "id": "609352cf",
   "metadata": {},
   "outputs": [],
   "source": [
    "def myfunction():\n",
    "    pass"
   ]
  },
  {
   "cell_type": "markdown",
   "id": "3948ba64",
   "metadata": {},
   "source": [
    "#  Recursion\n",
    "    ~ Python also accepts function recursion, which means a defined function can call itself.\n",
    "    ~ Recursion is a common mathematical and programming concept. It means that a function calls itself. This has the benefit of meaning that you can loop through data to reach a result.\n"
   ]
  },
  {
   "cell_type": "code",
   "execution_count": 11,
   "id": "79541599",
   "metadata": {},
   "outputs": [
    {
     "name": "stdout",
     "output_type": "stream",
     "text": [
      "3\n",
      "7\n",
      "12\n",
      "18\n"
     ]
    },
    {
     "data": {
      "text/plain": [
       "18"
      ]
     },
     "execution_count": 11,
     "metadata": {},
     "output_type": "execute_result"
    }
   ],
   "source": [
    "def tri_recursion(k):\n",
    "    if(k > 2):\n",
    "        result = k + tri_recursion(k-1)\n",
    "        print(result)\n",
    "    else:\n",
    "        result=0\n",
    "    return result\n",
    "tri_recursion(6)"
   ]
  },
  {
   "cell_type": "code",
   "execution_count": null,
   "id": "7bbf7483",
   "metadata": {},
   "outputs": [],
   "source": []
  },
  {
   "cell_type": "code",
   "execution_count": null,
   "id": "ba64828e",
   "metadata": {},
   "outputs": [],
   "source": []
  },
  {
   "cell_type": "code",
   "execution_count": null,
   "id": "f1a1c9e5",
   "metadata": {},
   "outputs": [],
   "source": []
  },
  {
   "cell_type": "code",
   "execution_count": null,
   "id": "86b72f68",
   "metadata": {},
   "outputs": [],
   "source": []
  },
  {
   "cell_type": "code",
   "execution_count": null,
   "id": "25d6f74d",
   "metadata": {},
   "outputs": [],
   "source": []
  },
  {
   "cell_type": "code",
   "execution_count": null,
   "id": "bd6c084d",
   "metadata": {},
   "outputs": [],
   "source": []
  }
 ],
 "metadata": {
  "kernelspec": {
   "display_name": "Python 3 (ipykernel)",
   "language": "python",
   "name": "python3"
  },
  "language_info": {
   "codemirror_mode": {
    "name": "ipython",
    "version": 3
   },
   "file_extension": ".py",
   "mimetype": "text/x-python",
   "name": "python",
   "nbconvert_exporter": "python",
   "pygments_lexer": "ipython3",
   "version": "3.9.12"
  }
 },
 "nbformat": 4,
 "nbformat_minor": 5
}
