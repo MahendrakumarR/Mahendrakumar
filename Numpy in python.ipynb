{
 "cells": [
  {
   "cell_type": "markdown",
   "id": "6314023d",
   "metadata": {},
   "source": [
    "# numpy is the core library for the multidimensional array\n",
    "\n",
    "# it is a table of elements (usually numbers), all of the same type, indexes by a typle of positive integers\n",
    "\n",
    "# in numpy, dimensions are called axes"
   ]
  },
  {
   "cell_type": "code",
   "execution_count": null,
   "id": "febae986",
   "metadata": {},
   "outputs": [],
   "source": []
  },
  {
   "cell_type": "code",
   "execution_count": null,
   "id": "277aa113",
   "metadata": {},
   "outputs": [],
   "source": []
  },
  {
   "cell_type": "markdown",
   "id": "acc38d36",
   "metadata": {},
   "source": [
    "# numpy array vs python list\n",
    "    \n",
    "    why should we use numpy array when we have python list\n",
    "    \n",
    "    ~Fast        ~convenient         ~less memory"
   ]
  },
  {
   "cell_type": "code",
   "execution_count": 3,
   "id": "bed52bd6",
   "metadata": {},
   "outputs": [
    {
     "name": "stdout",
     "output_type": "stream",
     "text": [
      "[1 8 5]\n"
     ]
    }
   ],
   "source": [
    "import numpy as np            # import the module and called numpy as np\n",
    "\n",
    "a=np.array([1,8,5])\n",
    "print(a)"
   ]
  },
  {
   "cell_type": "code",
   "execution_count": 4,
   "id": "b57e48b5",
   "metadata": {},
   "outputs": [
    {
     "data": {
      "text/plain": [
       "array([1, 8, 5])"
      ]
     },
     "execution_count": 4,
     "metadata": {},
     "output_type": "execute_result"
    }
   ],
   "source": [
    "import numpy as np         \n",
    "\n",
    "a=np.array([1,8,5])              # same as the above code\n",
    "a"
   ]
  },
  {
   "cell_type": "code",
   "execution_count": 9,
   "id": "bc5c3101",
   "metadata": {},
   "outputs": [
    {
     "name": "stdout",
     "output_type": "stream",
     "text": [
      "8\n"
     ]
    }
   ],
   "source": [
    "import numpy as np\n",
    "\n",
    "a=np.array([1,8,5])\n",
    "print(a[1])"
   ]
  },
  {
   "cell_type": "code",
   "execution_count": 5,
   "id": "7f357c87",
   "metadata": {},
   "outputs": [],
   "source": [
    "import time \n",
    "import sys"
   ]
  },
  {
   "cell_type": "code",
   "execution_count": 68,
   "id": "c9d533cb",
   "metadata": {},
   "outputs": [
    {
     "name": "stdout",
     "output_type": "stream",
     "text": [
      "2800\n"
     ]
    }
   ],
   "source": [
    "b=range(100)\n",
    "print(sys.getsizeof(5)*len(b))"
   ]
  },
  {
   "cell_type": "code",
   "execution_count": 54,
   "id": "04ba39d5",
   "metadata": {},
   "outputs": [
    {
     "name": "stdout",
     "output_type": "stream",
     "text": [
      "40000\n"
     ]
    }
   ],
   "source": [
    "c=np.arange(10000)\n",
    "print(c.size*c.itemsize)"
   ]
  },
  {
   "cell_type": "code",
   "execution_count": 7,
   "id": "b7962250",
   "metadata": {},
   "outputs": [
    {
     "name": "stdout",
     "output_type": "stream",
     "text": [
      "[0, 2, 4, 6, 8, 10, 12, 14, 16, 18, 20, 22, 24, 26, 28, 30, 32, 34, 36, 38, 40, 42, 44, 46, 48, 50, 52, 54, 56, 58, 60, 62, 64, 66, 68, 70, 72, 74, 76, 78, 80, 82, 84, 86, 88, 90, 92, 94, 96, 98, 100, 102, 104, 106, 108, 110, 112, 114, 116, 118, 120, 122, 124, 126, 128, 130, 132, 134, 136, 138, 140, 142, 144, 146, 148, 150, 152, 154, 156, 158, 160, 162, 164, 166, 168, 170, 172, 174, 176, 178, 180, 182, 184, 186, 188, 190, 192, 194, 196, 198]\n",
      "python list took: 0.0\n"
     ]
    }
   ],
   "source": [
    "size=100\n",
    "L1=range(size)\n",
    "L2=range(size)\n",
    "A1=np.arange(size)\n",
    "A2=np.arange(size)\n",
    "start=time.time()\n",
    "result = [(x+y) for x,y in zip(L1, L2)]\n",
    "print(result)\n",
    "print(\"python list took:\", (time.time()-start)*100)"
   ]
  },
  {
   "cell_type": "code",
   "execution_count": 100,
   "id": "7f0eba1c",
   "metadata": {},
   "outputs": [
    {
     "name": "stdout",
     "output_type": "stream",
     "text": [
      "python array took: 1013.6127471923828\n"
     ]
    }
   ],
   "source": [
    "start=time.time()\n",
    "result=A1+A2\n",
    "print(\"python array took:\", (time.time()-start)*100000)"
   ]
  },
  {
   "cell_type": "markdown",
   "id": "36d77b23",
   "metadata": {},
   "source": [
    "# Basic operations"
   ]
  },
  {
   "cell_type": "code",
   "execution_count": 132,
   "id": "9727abaa",
   "metadata": {},
   "outputs": [
    {
     "data": {
      "text/plain": [
       "array([[1, 2],\n",
       "       [4, 6],\n",
       "       [7, 8]])"
      ]
     },
     "execution_count": 132,
     "metadata": {},
     "output_type": "execute_result"
    }
   ],
   "source": [
    "b=np.array([[1,2],[4,6],[7,8]])\n",
    "b"
   ]
  },
  {
   "cell_type": "code",
   "execution_count": 133,
   "id": "1f2d2dc2",
   "metadata": {},
   "outputs": [
    {
     "data": {
      "text/plain": [
       "2"
      ]
     },
     "execution_count": 133,
     "metadata": {},
     "output_type": "execute_result"
    }
   ],
   "source": [
    "b.ndim"
   ]
  },
  {
   "cell_type": "code",
   "execution_count": 134,
   "id": "eae026ca",
   "metadata": {},
   "outputs": [
    {
     "data": {
      "text/plain": [
       "4"
      ]
     },
     "execution_count": 134,
     "metadata": {},
     "output_type": "execute_result"
    }
   ],
   "source": [
    "b.itemsize"
   ]
  },
  {
   "cell_type": "code",
   "execution_count": 135,
   "id": "786c2dfc",
   "metadata": {},
   "outputs": [
    {
     "data": {
      "text/plain": [
       "(3, 2)"
      ]
     },
     "execution_count": 135,
     "metadata": {},
     "output_type": "execute_result"
    }
   ],
   "source": [
    "b.shape    # rows and column"
   ]
  },
  {
   "cell_type": "code",
   "execution_count": 136,
   "id": "fbdf0632",
   "metadata": {},
   "outputs": [
    {
     "data": {
      "text/plain": [
       "array([[1., 2.],\n",
       "       [4., 6.],\n",
       "       [7., 8.]])"
      ]
     },
     "execution_count": 136,
     "metadata": {},
     "output_type": "execute_result"
    }
   ],
   "source": [
    "b=np.array([[1,2],[4,6],[7,8]], dtype=np.float64)\n",
    "b"
   ]
  },
  {
   "cell_type": "code",
   "execution_count": 138,
   "id": "f64d4442",
   "metadata": {},
   "outputs": [
    {
     "data": {
      "text/plain": [
       "8"
      ]
     },
     "execution_count": 138,
     "metadata": {},
     "output_type": "execute_result"
    }
   ],
   "source": [
    "b.itemsize"
   ]
  },
  {
   "cell_type": "code",
   "execution_count": 139,
   "id": "0d77c808",
   "metadata": {},
   "outputs": [
    {
     "data": {
      "text/plain": [
       "(3, 2)"
      ]
     },
     "execution_count": 139,
     "metadata": {},
     "output_type": "execute_result"
    }
   ],
   "source": [
    "b.shape"
   ]
  },
  {
   "cell_type": "code",
   "execution_count": 140,
   "id": "4cb85db7",
   "metadata": {},
   "outputs": [
    {
     "data": {
      "text/plain": [
       "array([[0., 0., 0., 0.],\n",
       "       [0., 0., 0., 0.],\n",
       "       [0., 0., 0., 0.]])"
      ]
     },
     "execution_count": 140,
     "metadata": {},
     "output_type": "execute_result"
    }
   ],
   "source": [
    "np.zeros((3,4))             # Three rows and four columns"
   ]
  },
  {
   "cell_type": "code",
   "execution_count": 141,
   "id": "35a9fc4f",
   "metadata": {},
   "outputs": [
    {
     "data": {
      "text/plain": [
       "array([[1., 1., 1.],\n",
       "       [1., 1., 1.],\n",
       "       [1., 1., 1.],\n",
       "       [1., 1., 1.]])"
      ]
     },
     "execution_count": 141,
     "metadata": {},
     "output_type": "execute_result"
    }
   ],
   "source": [
    "np.ones((4,3))"
   ]
  },
  {
   "cell_type": "code",
   "execution_count": 151,
   "id": "be279a4f",
   "metadata": {},
   "outputs": [
    {
     "data": {
      "text/plain": [
       "range(0, 6)"
      ]
     },
     "execution_count": 151,
     "metadata": {},
     "output_type": "execute_result"
    }
   ],
   "source": [
    "l=range(6)       # The range is 0 to 6\n",
    "l"
   ]
  },
  {
   "cell_type": "code",
   "execution_count": 152,
   "id": "077058e6",
   "metadata": {},
   "outputs": [
    {
     "data": {
      "text/plain": [
       "array([0, 1, 2, 3, 4, 5])"
      ]
     },
     "execution_count": 152,
     "metadata": {},
     "output_type": "execute_result"
    }
   ],
   "source": [
    "np.arange(6)"
   ]
  },
  {
   "cell_type": "code",
   "execution_count": 157,
   "id": "bf821544",
   "metadata": {},
   "outputs": [
    {
     "name": "stdout",
     "output_type": "stream",
     "text": [
      "['HiWelcome' 'HelloAgain']\n"
     ]
    }
   ],
   "source": [
    "print(np.char.add([\"Hi\",\"Hello\"],[\"Welcome\", \"Again\"]))       # Concatenation strings"
   ]
  },
  {
   "cell_type": "code",
   "execution_count": 158,
   "id": "998bbd3c",
   "metadata": {},
   "outputs": [
    {
     "data": {
      "text/plain": [
       "array(['HiWelcome', 'HelloAgain'], dtype='<U12')"
      ]
     },
     "execution_count": 158,
     "metadata": {},
     "output_type": "execute_result"
    }
   ],
   "source": [
    "np.char.add([\"Hi\",\"Hello\"],[\"Welcome\", \"Again\"])       # same as the above code"
   ]
  },
  {
   "cell_type": "code",
   "execution_count": 165,
   "id": "f4f4ced5",
   "metadata": {},
   "outputs": [
    {
     "name": "stdout",
     "output_type": "stream",
     "text": [
      "HiHiHi\n"
     ]
    }
   ],
   "source": [
    "print(np.char.multiply(\"Hi\", 3))                     # multiply the given value three times"
   ]
  },
  {
   "cell_type": "code",
   "execution_count": 176,
   "id": "26a2bf14",
   "metadata": {},
   "outputs": [
    {
     "name": "stdout",
     "output_type": "stream",
     "text": [
      "---------Hi---------\n"
     ]
    }
   ],
   "source": [
    "print(np.char.center(\"Hi\", 20,fillchar=\"-\"))         # Align the string to center"
   ]
  },
  {
   "cell_type": "code",
   "execution_count": 180,
   "id": "12f626d9",
   "metadata": {},
   "outputs": [
    {
     "name": "stdout",
     "output_type": "stream",
     "text": [
      "Hi hello\n"
     ]
    }
   ],
   "source": [
    "print(np.char.capitalize(\"hi hello\"))               # The first letter will be capitalized"
   ]
  },
  {
   "cell_type": "code",
   "execution_count": 183,
   "id": "19a911b5",
   "metadata": {},
   "outputs": [
    {
     "name": "stdout",
     "output_type": "stream",
     "text": [
      "Where Are You From?\n"
     ]
    }
   ],
   "source": [
    "print(np.char.title(\"Where are you from?\"))        # Each word first letter will be capital using title"
   ]
  },
  {
   "cell_type": "code",
   "execution_count": 184,
   "id": "9317641a",
   "metadata": {},
   "outputs": [
    {
     "name": "stdout",
     "output_type": "stream",
     "text": [
      "hi hello guys\n"
     ]
    }
   ],
   "source": [
    "print(np.char.lower(\"HI HELLO GUYS\"))             # print the string in lower case"
   ]
  },
  {
   "cell_type": "code",
   "execution_count": 185,
   "id": "b3c2f89a",
   "metadata": {},
   "outputs": [
    {
     "name": "stdout",
     "output_type": "stream",
     "text": [
      "WELOCME YOU ALL\n"
     ]
    }
   ],
   "source": [
    "print(np.char.upper(\"welocme you all\"))             # print the string in upper case"
   ]
  },
  {
   "cell_type": "code",
   "execution_count": 186,
   "id": "522db10e",
   "metadata": {},
   "outputs": [
    {
     "name": "stdout",
     "output_type": "stream",
     "text": [
      "['where', 'are', 'you', 'from?']\n"
     ]
    }
   ],
   "source": [
    "print(np.char.split(\"where are you from?\"))             # split the string"
   ]
  },
  {
   "cell_type": "code",
   "execution_count": 189,
   "id": "a9abfa33",
   "metadata": {},
   "outputs": [
    {
     "name": "stdout",
     "output_type": "stream",
     "text": [
      "['where', ' are you from?']\n"
     ]
    }
   ],
   "source": [
    "print(np.char.splitlines(\"where\\n are you from?\"))  # split two lines because we using the \\n "
   ]
  },
  {
   "cell_type": "code",
   "execution_count": 197,
   "id": "0bedeaf4",
   "metadata": {},
   "outputs": [
    {
     "name": "stdout",
     "output_type": "stream",
     "text": [
      "['pple' 'dmin' 'nual']\n"
     ]
    }
   ],
   "source": [
    "print(np.char.strip([\"apple\",\"admin\",\"anual\"],\"a\"))   # Remove _a_ in each word only the first letter"
   ]
  },
  {
   "cell_type": "code",
   "execution_count": 203,
   "id": "c4aef523",
   "metadata": {},
   "outputs": [
    {
     "name": "stdout",
     "output_type": "stream",
     "text": [
      "['d:m:y' 'y/m/d']\n"
     ]
    }
   ],
   "source": [
    "print(np.char.join([\":\",\"/\"],[\"dmy\",\"ymd\"]))           # join the word and symbols"
   ]
  },
  {
   "cell_type": "code",
   "execution_count": 208,
   "id": "2fa67bea",
   "metadata": {},
   "outputs": [
    {
     "name": "stdout",
     "output_type": "stream",
     "text": [
      "he was a good dancer\n"
     ]
    }
   ],
   "source": [
    "print(np.char.replace(\"he is a good dancer\",\"is\",\"was\"))    # replace the word _is_"
   ]
  },
  {
   "cell_type": "code",
   "execution_count": null,
   "id": "05c158f1",
   "metadata": {},
   "outputs": [],
   "source": []
  },
  {
   "cell_type": "code",
   "execution_count": null,
   "id": "24a68bcd",
   "metadata": {},
   "outputs": [],
   "source": []
  }
 ],
 "metadata": {
  "kernelspec": {
   "display_name": "Python 3 (ipykernel)",
   "language": "python",
   "name": "python3"
  },
  "language_info": {
   "codemirror_mode": {
    "name": "ipython",
    "version": 3
   },
   "file_extension": ".py",
   "mimetype": "text/x-python",
   "name": "python",
   "nbconvert_exporter": "python",
   "pygments_lexer": "ipython3",
   "version": "3.9.12"
  }
 },
 "nbformat": 4,
 "nbformat_minor": 5
}
