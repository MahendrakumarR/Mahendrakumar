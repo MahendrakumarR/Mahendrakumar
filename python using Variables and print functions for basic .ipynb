{
 "cells": [
  {
   "cell_type": "markdown",
   "id": "eb7875e1",
   "metadata": {},
   "source": [
    "# Variables and print function in python \n",
    "# Student Marklist"
   ]
  },
  {
   "cell_type": "code",
   "execution_count": null,
   "id": "b76bb28d",
   "metadata": {},
   "outputs": [],
   "source": []
  },
  {
   "cell_type": "markdown",
   "id": "a5e1c2b8",
   "metadata": {},
   "source": [
    "# Print the values"
   ]
  },
  {
   "cell_type": "code",
   "execution_count": null,
   "id": "e89ef4ef",
   "metadata": {},
   "outputs": [],
   "source": [
    "print(\"Hello Friends\") # The string values are printed"
   ]
  },
  {
   "cell_type": "code",
   "execution_count": null,
   "id": "8a99ed75",
   "metadata": {},
   "outputs": [],
   "source": [
    "print(17+2) # And two numbers\n",
    "print(3-9) # subtract two numbers\n",
    "print(8*3) # Multiply two numbers\n",
    "print(49/3) # Divide two numbers\n"
   ]
  },
  {
   "cell_type": "markdown",
   "id": "69418d18",
   "metadata": {},
   "source": [
    "# Using Variables"
   ]
  },
  {
   "cell_type": "code",
   "execution_count": 5,
   "id": "bef9b54e",
   "metadata": {},
   "outputs": [
    {
     "name": "stdout",
     "output_type": "stream",
     "text": [
      "Enter The Name:MahendraN\n",
      "Enter The Age:21\n",
      "\n",
      " Hi MahendraN Welcome your age is: 21\n"
     ]
    }
   ],
   "source": [
    "name=input(\"Enter The Name:\") # Enter your name is input\n",
    "age=int(input(\"Enter The Age:\")) # Enter your age is input for integer\n",
    "print(\"\\n Hi\",name,\"Welcome your age is:\",age) # The values are printed"
   ]
  },
  {
   "cell_type": "code",
   "execution_count": 7,
   "id": "e9dae0a8",
   "metadata": {},
   "outputs": [
    {
     "name": "stdout",
     "output_type": "stream",
     "text": [
      "30\n"
     ]
    }
   ],
   "source": [
    "a=12 # a is an integer value for default\n",
    "b=18 # b is also an integer value for default \n",
    "c=a+b # c store a and b adding value\n",
    "print(c) # print the value"
   ]
  },
  {
   "cell_type": "code",
   "execution_count": 14,
   "id": "c7b1cf62",
   "metadata": {},
   "outputs": [
    {
     "name": "stdout",
     "output_type": "stream",
     "text": [
      "Enter the first number:29\n",
      "Enter the second number:98\n",
      "\n",
      "The addition of the first and second number is: 127\n",
      "\n",
      "The value of C is: 254\n",
      "\n",
      "The value of E is: 250.8\n",
      "\n",
      "The value of F is: 65.3125\n"
     ]
    }
   ],
   "source": [
    "a=int(input(\"Enter the first number:\"))\n",
    "b=int(input(\"Enter the second number:\"))\n",
    "c=a+b\n",
    "print(\"\\nThe addition of the first and second number is:\",c)\n",
    "d=c*2\n",
    "print(\"\\nThe value of C is:\",d)\n",
    "e=d-3.2\n",
    "print(\"\\nThe value of E is:\",e)\n",
    "f=e/3.84\n",
    "print(\"\\nThe value of F is:\",f)"
   ]
  },
  {
   "cell_type": "code",
   "execution_count": null,
   "id": "7f3efad2",
   "metadata": {},
   "outputs": [],
   "source": []
  },
  {
   "cell_type": "markdown",
   "id": "8bd80662",
   "metadata": {},
   "source": [
    "# Student Mark list"
   ]
  },
  {
   "cell_type": "code",
   "execution_count": 37,
   "id": "15542378",
   "metadata": {},
   "outputs": [
    {
     "name": "stdout",
     "output_type": "stream",
     "text": [
      "Enter Your Name:Mahendrakuamr R\n",
      "Enter Your Roll No:13341\n",
      "Enter your Tamil Mark:70\n",
      "Enter your English Mark:80\n",
      "Enter your Maths Mark:85\n",
      "Enter your Science Mark:97\n",
      "Enter your Social Mark:98\n",
      "Enter your Practical1 Mark:100\n",
      "Enter your Practical2 Mark:99\n",
      "\n",
      "Student Name is: Mahendrakuamr R\n",
      "\n",
      "Student Roll Number is: 13341\n",
      "\n",
      "Tamil Mark is: 70\n",
      "\n",
      "English Mark is: 80\n",
      "\n",
      "Maths Mark is: 85\n",
      "\n",
      "Science Mark is: 97\n",
      "\n",
      "Social Mark is: 98\n",
      "\n",
      "Practical 1 Mark is: 100\n",
      "\n",
      "Practical 2 Mark is: 99\n",
      "\n",
      "Total is: 629\n",
      "\n",
      "Percentage is: 89.86\n",
      "\n",
      "Result is: pass\n",
      "\n",
      "Class is: First class with distinction\n"
     ]
    }
   ],
   "source": [
    "name=input(\"Enter Your Name:\")\n",
    "rollno=int(input(\"Enter Your Roll No:\"))\n",
    "tamil=int(input(\"Enter your Tamil Mark:\"))\n",
    "english=int(input(\"Enter your English Mark:\"))\n",
    "maths=int(input(\"Enter your Maths Mark:\"))\n",
    "science=int(input(\"Enter your Science Mark:\"))\n",
    "social=int(input(\"Enter your Social Mark:\"))\n",
    "practical1=int(input(\"Enter your Practical1 Mark:\"))\n",
    "practical2=int(input(\"Enter your Practical2 Mark:\"))\n",
    "total=tamil+english+maths+science+social+practical1+practical2\n",
    "percentage=float(total/7.0)\n",
    "if(tamil>=35 and english>=35 and maths>=35 and science>=35 and social>=35 and practical1>=35 and practical2>=35):\n",
    "    result=\"pass\"\n",
    "else:\n",
    "    result=\"fail\"\n",
    "if(percentage>=75):\n",
    "    cla=\"First class with distinction\"\n",
    "elif(percentage>=60):\n",
    "    cla=\"First class\"\n",
    "elif(percentage>=50):\n",
    "    cla=\"Second class\"\n",
    "elif(percentage>=45):\n",
    "    cla=\"Third class\"       \n",
    "print(\"\\nStudent Name is:\",name)\n",
    "print(\"\\nStudent Roll Number is:\",rollno)\n",
    "print(\"\\nTamil Mark is:\",tamil)\n",
    "print(\"\\nEnglish Mark is:\",english)\n",
    "print(\"\\nMaths Mark is:\",maths)\n",
    "print(\"\\nScience Mark is:\",science)\n",
    "print(\"\\nSocial Mark is:\",social)\n",
    "print(\"\\nPractical 1 Mark is:\",practical1)\n",
    "print(\"\\nPractical 2 Mark is:\",practical2)\n",
    "print(\"\\nTotal is:\",total)\n",
    "print(\"\\nPercentage is:\",round(percentage,2))\n",
    "print(\"\\nResult is:\",result)\n",
    "print(\"\\nClass is:\",cla)\n",
    "            "
   ]
  },
  {
   "cell_type": "code",
   "execution_count": null,
   "id": "967934f8",
   "metadata": {},
   "outputs": [],
   "source": []
  }
 ],
 "metadata": {
  "kernelspec": {
   "display_name": "Python 3 (ipykernel)",
   "language": "python",
   "name": "python3"
  },
  "language_info": {
   "codemirror_mode": {
    "name": "ipython",
    "version": 3
   },
   "file_extension": ".py",
   "mimetype": "text/x-python",
   "name": "python",
   "nbconvert_exporter": "python",
   "pygments_lexer": "ipython3",
   "version": "3.9.12"
  }
 },
 "nbformat": 4,
 "nbformat_minor": 5
}
