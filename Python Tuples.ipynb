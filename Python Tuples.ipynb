{
 "cells": [
  {
   "cell_type": "markdown",
   "id": "0c9ec910",
   "metadata": {},
   "source": [
    "# Tuple"
   ]
  },
  {
   "cell_type": "markdown",
   "id": "79cfd388",
   "metadata": {},
   "source": [
    "# Tuples are:\n",
    "      Ordered          Ex:-(0,1,2,3...)\n",
    "      Unchangeable     Ex:-(\"a\",\"b\",\"c\",\"d\")\n",
    "      Allow Duplicates Ex:-(\"a\",\"b\",\"c\",\"d\") or(\"a\",\"b\",\"c\",\"a\")"
   ]
  },
  {
   "cell_type": "code",
   "execution_count": 1,
   "id": "bdd7c63a",
   "metadata": {},
   "outputs": [
    {
     "data": {
      "text/plain": [
       "tuple"
      ]
     },
     "execution_count": 1,
     "metadata": {},
     "output_type": "execute_result"
    }
   ],
   "source": [
    "tpl=(\"a\",\"b\",\"c\")    # Tuple are are used round brackets\n",
    "type(tpl)"
   ]
  },
  {
   "cell_type": "code",
   "execution_count": 2,
   "id": "14ef73e3",
   "metadata": {},
   "outputs": [
    {
     "name": "stdout",
     "output_type": "stream",
     "text": [
      "('a', 'b', 'c', 'd')\n"
     ]
    }
   ],
   "source": [
    "tpl=(\"a\",\"b\",\"c\",\"d\")   # print the tuple items\n",
    "print(tpl)"
   ]
  },
  {
   "cell_type": "code",
   "execution_count": 3,
   "id": "29c530c3",
   "metadata": {},
   "outputs": [
    {
     "name": "stdout",
     "output_type": "stream",
     "text": [
      "('a', 1, 2.0, True)\n"
     ]
    }
   ],
   "source": [
    "tpl=(\"a\",1,2.0,True)\n",
    "print(tpl)"
   ]
  },
  {
   "cell_type": "markdown",
   "id": "df42f836",
   "metadata": {},
   "source": [
    "# Tuple() Constructor"
   ]
  },
  {
   "cell_type": "code",
   "execution_count": 4,
   "id": "3685c365",
   "metadata": {},
   "outputs": [
    {
     "name": "stdout",
     "output_type": "stream",
     "text": [
      "('a', 'b', 'c', 'd')\n"
     ]
    }
   ],
   "source": [
    "tpl=tuple((\"a\",\"b\",\"c\",\"d\")) \n",
    "print(tpl)"
   ]
  },
  {
   "cell_type": "markdown",
   "id": "ca3ae7e3",
   "metadata": {},
   "source": [
    "# Accessing tuple elements in python"
   ]
  },
  {
   "cell_type": "code",
   "execution_count": 5,
   "id": "67e1b161",
   "metadata": {},
   "outputs": [
    {
     "name": "stdout",
     "output_type": "stream",
     "text": [
      "b\n"
     ]
    }
   ],
   "source": [
    "tpl=(\"a\",\"b\",\"c\",\"d\") # print the value using the index position\n",
    "print(tpl[1])"
   ]
  },
  {
   "cell_type": "code",
   "execution_count": 6,
   "id": "306cf8bc",
   "metadata": {},
   "outputs": [
    {
     "name": "stdout",
     "output_type": "stream",
     "text": [
      "d\n"
     ]
    }
   ],
   "source": [
    "tpl=(\"a\",\"b\",\"c\",\"d\") # print the last position using negative number\n",
    "print(tpl[-1])"
   ]
  },
  {
   "cell_type": "code",
   "execution_count": 7,
   "id": "dc4eab6b",
   "metadata": {},
   "outputs": [
    {
     "name": "stdout",
     "output_type": "stream",
     "text": [
      "('b', 'c', 'd')\n"
     ]
    }
   ],
   "source": [
    "tpl=(\"a\",\"b\",\"c\",\"d\",\"e\")\n",
    "print(tpl[1:4])"
   ]
  },
  {
   "cell_type": "code",
   "execution_count": 8,
   "id": "8609a963",
   "metadata": {},
   "outputs": [
    {
     "name": "stdout",
     "output_type": "stream",
     "text": [
      "('b', 'c')\n"
     ]
    }
   ],
   "source": [
    "tpl=(\"a\",\"b\",\"c\",\"d\",\"e\")\n",
    "print(tpl[-4:-2])"
   ]
  },
  {
   "cell_type": "markdown",
   "id": "971650d6",
   "metadata": {},
   "source": [
    "# if Statement"
   ]
  },
  {
   "cell_type": "code",
   "execution_count": 9,
   "id": "0be9c455",
   "metadata": {},
   "outputs": [
    {
     "name": "stdout",
     "output_type": "stream",
     "text": [
      "Yes,b is present\n"
     ]
    }
   ],
   "source": [
    "tpl=(\"a\",\"b\",\"c\",\"d\")\n",
    "if\"b\"in tpl:\n",
    "    print(\"Yes,b is present\")\n",
    "else:\n",
    "    print(\"No,The latter is not present\")"
   ]
  },
  {
   "cell_type": "markdown",
   "id": "49f1a89f",
   "metadata": {},
   "source": [
    "# for loop "
   ]
  },
  {
   "cell_type": "code",
   "execution_count": 10,
   "id": "0c9a8164",
   "metadata": {},
   "outputs": [
    {
     "name": "stdout",
     "output_type": "stream",
     "text": [
      "0\n",
      "1\n",
      "2\n",
      "3\n"
     ]
    }
   ],
   "source": [
    "tpl=(\"a\",\"b\",\"c\",\"d\")\n",
    "for i in range(len(tpl)): # print the tuple of index positions\n",
    "    print(i)"
   ]
  },
  {
   "cell_type": "code",
   "execution_count": 11,
   "id": "9ae78de1",
   "metadata": {},
   "outputs": [
    {
     "name": "stdout",
     "output_type": "stream",
     "text": [
      "a\n",
      "b\n",
      "c\n",
      "d\n"
     ]
    }
   ],
   "source": [
    "tpl=(\"a\",\"b\",\"c\",\"d\")\n",
    "for i in range(len(tpl)): # print the tuple elements\n",
    "    print(tpl[i])"
   ]
  },
  {
   "cell_type": "code",
   "execution_count": 12,
   "id": "478b5d86",
   "metadata": {},
   "outputs": [
    {
     "name": "stdout",
     "output_type": "stream",
     "text": [
      "('c', 'd')\n",
      "('c', 'd')\n",
      "('c', 'd')\n",
      "('c', 'd')\n"
     ]
    }
   ],
   "source": [
    "tpl=(\"a\",\"b\",\"c\",\"d\")\n",
    "for i in tpl:          # print the elements for given range\n",
    "    print(tpl[2:])"
   ]
  },
  {
   "cell_type": "code",
   "execution_count": 13,
   "id": "cdb7051c",
   "metadata": {},
   "outputs": [
    {
     "name": "stdout",
     "output_type": "stream",
     "text": [
      "('a', 'b', 'c', 'd')\n",
      "('a', 'b', 'c', 'd')\n",
      "('a', 'b', 'c', 'd')\n",
      "('a', 'b', 'c', 'd')\n"
     ]
    }
   ],
   "source": [
    "tpl=(\"a\",\"b\",\"c\",\"d\")\n",
    "for i in range(len(tpl)):\n",
    "    print(tpl)"
   ]
  },
  {
   "cell_type": "code",
   "execution_count": null,
   "id": "27a2cab3",
   "metadata": {},
   "outputs": [],
   "source": []
  },
  {
   "cell_type": "code",
   "execution_count": 14,
   "id": "dea02902",
   "metadata": {},
   "outputs": [
    {
     "name": "stdout",
     "output_type": "stream",
     "text": [
      "No\n",
      "yes\n",
      "No\n",
      "No\n",
      "d\n"
     ]
    }
   ],
   "source": [
    "tpl=(\"a\",\"b\",\"c\",\"d\")\n",
    "for i in tpl[0:4]:\n",
    "    if \"b\" in i:\n",
    "        print(\"yes\")\n",
    "    else:\n",
    "        print(\"No\")\n",
    "print(i)"
   ]
  },
  {
   "cell_type": "markdown",
   "id": "1ab15530",
   "metadata": {},
   "source": [
    "# While loop"
   ]
  },
  {
   "cell_type": "code",
   "execution_count": 15,
   "id": "9be5b002",
   "metadata": {},
   "outputs": [
    {
     "name": "stdout",
     "output_type": "stream",
     "text": [
      "0\n",
      "1\n",
      "2\n",
      "3\n"
     ]
    }
   ],
   "source": [
    "tpl=(\"a\",\"b\",\"c\",\"d\")\n",
    "i=0\n",
    "while i<len(tpl):    # print the index numbers\n",
    "    print(i)\n",
    "    i=i+1"
   ]
  },
  {
   "cell_type": "code",
   "execution_count": 16,
   "id": "e95aba43",
   "metadata": {},
   "outputs": [
    {
     "name": "stdout",
     "output_type": "stream",
     "text": [
      "a\n",
      "b\n",
      "c\n",
      "d\n"
     ]
    }
   ],
   "source": [
    "tpl=(\"a\",\"b\",\"c\",\"d\")\n",
    "i=0\n",
    "while i<len(tpl):    # print the index values\n",
    "    print(tpl[i])\n",
    "    i=i+1"
   ]
  },
  {
   "cell_type": "markdown",
   "id": "9cafb202",
   "metadata": {},
   "source": [
    "# Update a tuple value"
   ]
  },
  {
   "cell_type": "markdown",
   "id": "88581184",
   "metadata": {},
   "source": [
    "# change tuple to list then update a value\n",
    " Updating existing value"
   ]
  },
  {
   "cell_type": "code",
   "execution_count": 17,
   "id": "ddb2a5ce",
   "metadata": {},
   "outputs": [
    {
     "name": "stdout",
     "output_type": "stream",
     "text": [
      "('a', 'b', 'c', 'd', 'f')\n"
     ]
    }
   ],
   "source": [
    "tpl=(\"a\",\"b\",\"c\",\"d\",\"e\")  # tuple \n",
    "tp=list(tpl)               # convert to list\n",
    "tp[4]=\"f\"                  # update a 4 index position\n",
    "tpl=tuple(tp)              # new element store in a tuple\n",
    "print(tpl)                 # print the tuple"
   ]
  },
  {
   "cell_type": "code",
   "execution_count": 18,
   "id": "61d6c597",
   "metadata": {},
   "outputs": [
    {
     "name": "stdout",
     "output_type": "stream",
     "text": [
      "('a', 'b', 'c', 'd', 'e')\n"
     ]
    }
   ],
   "source": [
    "tpl=(\"a\",\"b\",\"c\",\"d\")\n",
    "tp2=list(tpl)\n",
    "tp2.append(\"e\")\n",
    "tpl=tuple(tp2)\n",
    "print(tpl)"
   ]
  },
  {
   "cell_type": "code",
   "execution_count": 19,
   "id": "2dbe1ab4",
   "metadata": {},
   "outputs": [
    {
     "name": "stdout",
     "output_type": "stream",
     "text": [
      "('a', 'b', 'c', 'd', 'h')\n"
     ]
    }
   ],
   "source": [
    "tpl=(\"a\",\"b\",\"c\",\"d\")  # Concatinate a tuple\n",
    "t=(\"h\",)\n",
    "tpl=tpl+t\n",
    "print(tpl)"
   ]
  },
  {
   "cell_type": "code",
   "execution_count": 20,
   "id": "f322ae36",
   "metadata": {},
   "outputs": [
    {
     "name": "stdout",
     "output_type": "stream",
     "text": [
      "('a', 'b', 'c', 'd')\n"
     ]
    }
   ],
   "source": [
    "tpl=(\"a\",\"b\",\"c\",\"d\",\"e\")\n",
    "tp2=list(tpl)\n",
    "tp2.remove(\"e\")\n",
    "tpl=tuple(tp2)\n",
    "print(tpl)"
   ]
  },
  {
   "cell_type": "code",
   "execution_count": 21,
   "id": "cab7691f",
   "metadata": {},
   "outputs": [
    {
     "ename": "NameError",
     "evalue": "name 'green' is not defined",
     "output_type": "error",
     "traceback": [
      "\u001b[1;31m---------------------------------------------------------------------------\u001b[0m",
      "\u001b[1;31mNameError\u001b[0m                                 Traceback (most recent call last)",
      "Input \u001b[1;32mIn [21]\u001b[0m, in \u001b[0;36m<cell line: 2>\u001b[1;34m()\u001b[0m\n\u001b[0;32m      1\u001b[0m fruits\u001b[38;5;241m=\u001b[39m(\u001b[38;5;124m\"\u001b[39m\u001b[38;5;124mapple\u001b[39m\u001b[38;5;124m\"\u001b[39m,\u001b[38;5;124m\"\u001b[39m\u001b[38;5;124mbanana\u001b[39m\u001b[38;5;124m\"\u001b[39m,\u001b[38;5;124m\"\u001b[39m\u001b[38;5;124mcherry\u001b[39m\u001b[38;5;124m\"\u001b[39m) \n\u001b[1;32m----> 2\u001b[0m fruits\u001b[38;5;241m=\u001b[39m(\u001b[43mgreen\u001b[49m,yellow,red)           \u001b[38;5;66;03m# Assign a variables particular tuple value\u001b[39;00m\n\u001b[0;32m      3\u001b[0m \u001b[38;5;28mprint\u001b[39m(green)\n\u001b[0;32m      4\u001b[0m \u001b[38;5;28mprint\u001b[39m(yellow)\n",
      "\u001b[1;31mNameError\u001b[0m: name 'green' is not defined"
     ]
    }
   ],
   "source": [
    "fruits=(\"apple\",\"banana\",\"cherry\") \n",
    "fruits=(green,yellow,red)           # Assign a variables particular tuple value\n",
    "print(green)\n",
    "print(yellow)\n",
    "print(red)"
   ]
  },
  {
   "cell_type": "code",
   "execution_count": null,
   "id": "dfe3d1d4",
   "metadata": {},
   "outputs": [],
   "source": [
    "fs=(\"apple\",\"banana\",\"cherry\",\"strawberry\",\"raspberry\",\"a\") \n",
    "(g,*r,y)=fs   # Assign a variable tuple value and * is used for morethan one value store in a variable\n",
    "print(g)\n",
    "print(r)\n",
    "print(y)"
   ]
  },
  {
   "cell_type": "markdown",
   "id": "75f6c437",
   "metadata": {},
   "source": [
    "# join tuples"
   ]
  },
  {
   "cell_type": "code",
   "execution_count": null,
   "id": "f37cddfc",
   "metadata": {},
   "outputs": [],
   "source": [
    "tp1=(\"a\",\"b\",\"c\")\n",
    "tp2=(\"d\",\"e\",\"f\")\n",
    "tp3=tp1+tp2\n",
    "print(tp3)"
   ]
  },
  {
   "cell_type": "code",
   "execution_count": null,
   "id": "418c14f4",
   "metadata": {},
   "outputs": [],
   "source": [
    "tp1=(\"a\",\"b\",\"c\")*2     # Multify the tuple values\n",
    "print(tp1)"
   ]
  },
  {
   "cell_type": "markdown",
   "id": "7238ba77",
   "metadata": {},
   "source": [
    "# Tuple Methods"
   ]
  },
  {
   "cell_type": "code",
   "execution_count": null,
   "id": "05c1e17e",
   "metadata": {},
   "outputs": [],
   "source": [
    "tp=(\"a\",\"b\",\"c\",\"a\") # Count the one value howmany times writen\n",
    "tp.count(\"a\")"
   ]
  },
  {
   "cell_type": "code",
   "execution_count": null,
   "id": "5b510961",
   "metadata": {},
   "outputs": [],
   "source": [
    "tp=(\"a\",\"b\",\"c\")\n",
    "tp.index(\"a\")    # print the value of index position"
   ]
  },
  {
   "cell_type": "code",
   "execution_count": null,
   "id": "5ac325b3",
   "metadata": {},
   "outputs": [],
   "source": []
  },
  {
   "cell_type": "code",
   "execution_count": null,
   "id": "65ec168f",
   "metadata": {},
   "outputs": [],
   "source": []
  },
  {
   "cell_type": "code",
   "execution_count": null,
   "id": "bd026fde",
   "metadata": {},
   "outputs": [],
   "source": []
  },
  {
   "cell_type": "code",
   "execution_count": null,
   "id": "b53edafc",
   "metadata": {},
   "outputs": [],
   "source": []
  }
 ],
 "metadata": {
  "kernelspec": {
   "display_name": "Python 3 (ipykernel)",
   "language": "python",
   "name": "python3"
  },
  "language_info": {
   "codemirror_mode": {
    "name": "ipython",
    "version": 3
   },
   "file_extension": ".py",
   "mimetype": "text/x-python",
   "name": "python",
   "nbconvert_exporter": "python",
   "pygments_lexer": "ipython3",
   "version": "3.9.12"
  }
 },
 "nbformat": 4,
 "nbformat_minor": 5
}
