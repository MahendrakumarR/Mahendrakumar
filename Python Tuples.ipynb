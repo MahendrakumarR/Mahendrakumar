{
 "cells": [
  {
   "cell_type": "markdown",
   "id": "257dea7d",
   "metadata": {},
   "source": [
    "# Tuple"
   ]
  },
  {
   "cell_type": "markdown",
   "id": "48c153a7",
   "metadata": {},
   "source": [
    "# Tuples are:\n",
    "      Ordered          Ex:-(0,1,2,3...)\n",
    "      Unchangeable     Ex:-(\"a\",\"b\",\"c\",\"d\")\n",
    "      Allow Duplicates Ex:-(\"a\",\"b\",\"c\",\"d\") or(\"a\",\"b\",\"c\",\"a\")"
   ]
  },
  {
   "cell_type": "code",
   "execution_count": 1,
   "id": "d8ed4a3c",
   "metadata": {},
   "outputs": [
    {
     "data": {
      "text/plain": [
       "tuple"
      ]
     },
     "execution_count": 1,
     "metadata": {},
     "output_type": "execute_result"
    }
   ],
   "source": [
    "tpl=(\"a\",\"b\",\"c\")    # Tuple are are used round brackets\n",
    "type(tpl)"
   ]
  },
  {
   "cell_type": "code",
   "execution_count": 2,
   "id": "8b6ee4da",
   "metadata": {},
   "outputs": [
    {
     "name": "stdout",
     "output_type": "stream",
     "text": [
      "('a', 'b', 'c', 'd')\n"
     ]
    }
   ],
   "source": [
    "tpl=(\"a\",\"b\",\"c\",\"d\")   # print the tuple items\n",
    "print(tpl)"
   ]
  },
  {
   "cell_type": "code",
   "execution_count": 3,
   "id": "6641b8bb",
   "metadata": {},
   "outputs": [
    {
     "name": "stdout",
     "output_type": "stream",
     "text": [
      "('a', 1, 2.0, True)\n"
     ]
    }
   ],
   "source": [
    "tpl=(\"a\",1,2.0,True)\n",
    "print(tpl)"
   ]
  },
  {
   "cell_type": "markdown",
   "id": "e4c74b1d",
   "metadata": {},
   "source": [
    "# Tuple() Constructor"
   ]
  },
  {
   "cell_type": "code",
   "execution_count": 4,
   "id": "a242f3c0",
   "metadata": {},
   "outputs": [
    {
     "name": "stdout",
     "output_type": "stream",
     "text": [
      "('a', 'b', 'c', 'd')\n"
     ]
    }
   ],
   "source": [
    "tpl=tuple((\"a\",\"b\",\"c\",\"d\")) \n",
    "print(tpl)"
   ]
  },
  {
   "cell_type": "markdown",
   "id": "15c2f50c",
   "metadata": {},
   "source": [
    "# Accessing tuple elements in python"
   ]
  },
  {
   "cell_type": "code",
   "execution_count": 5,
   "id": "ff5238be",
   "metadata": {},
   "outputs": [
    {
     "name": "stdout",
     "output_type": "stream",
     "text": [
      "b\n"
     ]
    }
   ],
   "source": [
    "tpl=(\"a\",\"b\",\"c\",\"d\") # print the value using the index position\n",
    "print(tpl[1])"
   ]
  },
  {
   "cell_type": "code",
   "execution_count": 6,
   "id": "19182629",
   "metadata": {},
   "outputs": [
    {
     "name": "stdout",
     "output_type": "stream",
     "text": [
      "d\n"
     ]
    }
   ],
   "source": [
    "tpl=(\"a\",\"b\",\"c\",\"d\") # print the last position using negative number\n",
    "print(tpl[-1])"
   ]
  },
  {
   "cell_type": "code",
   "execution_count": 7,
   "id": "172435cc",
   "metadata": {},
   "outputs": [
    {
     "name": "stdout",
     "output_type": "stream",
     "text": [
      "('b', 'c', 'd')\n"
     ]
    }
   ],
   "source": [
    "tpl=(\"a\",\"b\",\"c\",\"d\",\"e\")\n",
    "print(tpl[1:4])"
   ]
  },
  {
   "cell_type": "code",
   "execution_count": 8,
   "id": "662e22bb",
   "metadata": {},
   "outputs": [
    {
     "name": "stdout",
     "output_type": "stream",
     "text": [
      "('b', 'c')\n"
     ]
    }
   ],
   "source": [
    "tpl=(\"a\",\"b\",\"c\",\"d\",\"e\")\n",
    "print(tpl[-4:-2])"
   ]
  },
  {
   "cell_type": "markdown",
   "id": "1dea7153",
   "metadata": {},
   "source": [
    "# if Statement"
   ]
  },
  {
   "cell_type": "code",
   "execution_count": 9,
   "id": "e97dceb9",
   "metadata": {},
   "outputs": [
    {
     "name": "stdout",
     "output_type": "stream",
     "text": [
      "Yes,b is present\n"
     ]
    }
   ],
   "source": [
    "tpl=(\"a\",\"b\",\"c\",\"d\")\n",
    "if\"b\"in tpl:\n",
    "    print(\"Yes,b is present\")\n",
    "else:\n",
    "    print(\"No,The latter is not present\")"
   ]
  },
  {
   "cell_type": "markdown",
   "id": "b7e791b0",
   "metadata": {},
   "source": [
    "# for loop "
   ]
  },
  {
   "cell_type": "code",
   "execution_count": 10,
   "id": "29918ae5",
   "metadata": {},
   "outputs": [
    {
     "name": "stdout",
     "output_type": "stream",
     "text": [
      "0\n",
      "1\n",
      "2\n",
      "3\n"
     ]
    }
   ],
   "source": [
    "tpl=(\"a\",\"b\",\"c\",\"d\")\n",
    "for i in range(len(tpl)): # print the tuple of index positions\n",
    "    print(i)"
   ]
  },
  {
   "cell_type": "code",
   "execution_count": 11,
   "id": "0166c0cd",
   "metadata": {},
   "outputs": [
    {
     "name": "stdout",
     "output_type": "stream",
     "text": [
      "a\n",
      "b\n",
      "c\n",
      "d\n"
     ]
    }
   ],
   "source": [
    "tpl=(\"a\",\"b\",\"c\",\"d\")\n",
    "for i in range(len(tpl)): # print the tuple elements\n",
    "    print(tpl[i])"
   ]
  },
  {
   "cell_type": "code",
   "execution_count": 12,
   "id": "98cd7312",
   "metadata": {},
   "outputs": [
    {
     "name": "stdout",
     "output_type": "stream",
     "text": [
      "('c', 'd')\n",
      "('c', 'd')\n",
      "('c', 'd')\n",
      "('c', 'd')\n"
     ]
    }
   ],
   "source": [
    "tpl=(\"a\",\"b\",\"c\",\"d\")\n",
    "for i in tpl:          # print the elements for given range\n",
    "    print(tpl[2:])"
   ]
  },
  {
   "cell_type": "code",
   "execution_count": 13,
   "id": "df6476a2",
   "metadata": {},
   "outputs": [
    {
     "name": "stdout",
     "output_type": "stream",
     "text": [
      "('a', 'b', 'c', 'd')\n",
      "('a', 'b', 'c', 'd')\n",
      "('a', 'b', 'c', 'd')\n",
      "('a', 'b', 'c', 'd')\n"
     ]
    }
   ],
   "source": [
    "tpl=(\"a\",\"b\",\"c\",\"d\")\n",
    "for i in range(len(tpl)):\n",
    "    print(tpl)"
   ]
  },
  {
   "cell_type": "code",
   "execution_count": null,
   "id": "ca9e6cbe",
   "metadata": {},
   "outputs": [],
   "source": []
  },
  {
   "cell_type": "code",
   "execution_count": 14,
   "id": "29b36f12",
   "metadata": {},
   "outputs": [
    {
     "name": "stdout",
     "output_type": "stream",
     "text": [
      "No\n",
      "yes\n",
      "No\n",
      "No\n",
      "d\n"
     ]
    }
   ],
   "source": [
    "tpl=(\"a\",\"b\",\"c\",\"d\")\n",
    "for i in tpl[0:4]:\n",
    "    if \"b\" in i:\n",
    "        print(\"yes\")\n",
    "    else:\n",
    "        print(\"No\")\n",
    "print(i)"
   ]
  },
  {
   "cell_type": "markdown",
   "id": "1995f656",
   "metadata": {},
   "source": [
    "# While loop"
   ]
  },
  {
   "cell_type": "code",
   "execution_count": 15,
   "id": "6b0a6efb",
   "metadata": {},
   "outputs": [
    {
     "name": "stdout",
     "output_type": "stream",
     "text": [
      "0\n",
      "1\n",
      "2\n",
      "3\n"
     ]
    }
   ],
   "source": [
    "tpl=(\"a\",\"b\",\"c\",\"d\")\n",
    "i=0\n",
    "while i<len(tpl):    # print the index numbers\n",
    "    print(i)\n",
    "    i=i+1"
   ]
  },
  {
   "cell_type": "code",
   "execution_count": 16,
   "id": "dd1c9872",
   "metadata": {},
   "outputs": [
    {
     "name": "stdout",
     "output_type": "stream",
     "text": [
      "a\n",
      "b\n",
      "c\n",
      "d\n"
     ]
    }
   ],
   "source": [
    "tpl=(\"a\",\"b\",\"c\",\"d\")\n",
    "i=0\n",
    "while i<len(tpl):    # print the index values\n",
    "    print(tpl[i])\n",
    "    i=i+1"
   ]
  },
  {
   "cell_type": "markdown",
   "id": "92ab448b",
   "metadata": {},
   "source": [
    "# Update a tuple value"
   ]
  },
  {
   "cell_type": "markdown",
   "id": "854ae20f",
   "metadata": {},
   "source": [
    "# change tuple to list then update a value\n",
    " Updating existing value"
   ]
  },
  {
   "cell_type": "code",
   "execution_count": 17,
   "id": "6a187914",
   "metadata": {},
   "outputs": [
    {
     "name": "stdout",
     "output_type": "stream",
     "text": [
      "('a', 'b', 'c', 'd', 'f')\n"
     ]
    }
   ],
   "source": [
    "tpl=(\"a\",\"b\",\"c\",\"d\",\"e\")  # tuple \n",
    "tp=list(tpl)               # convert to list\n",
    "tp[4]=\"f\"                  # update a 4 index position\n",
    "tpl=tuple(tp)              # new element store in a tuple\n",
    "print(tpl)                 # print the tuple"
   ]
  },
  {
   "cell_type": "code",
   "execution_count": 18,
   "id": "05d0dd34",
   "metadata": {},
   "outputs": [
    {
     "name": "stdout",
     "output_type": "stream",
     "text": [
      "('a', 'b', 'c', 'd', 'e')\n"
     ]
    }
   ],
   "source": [
    "tpl=(\"a\",\"b\",\"c\",\"d\")\n",
    "tp2=list(tpl)\n",
    "tp2.append(\"e\")\n",
    "tpl=tuple(tp2)\n",
    "print(tpl)"
   ]
  },
  {
   "cell_type": "code",
   "execution_count": 19,
   "id": "f31167fb",
   "metadata": {},
   "outputs": [
    {
     "name": "stdout",
     "output_type": "stream",
     "text": [
      "('a', 'b', 'c', 'd', 'h')\n"
     ]
    }
   ],
   "source": [
    "tpl=(\"a\",\"b\",\"c\",\"d\")  # Concatinate a tuple\n",
    "t=(\"h\",)\n",
    "tpl=tpl+t\n",
    "print(tpl)"
   ]
  },
  {
   "cell_type": "code",
   "execution_count": 20,
   "id": "8da1ad11",
   "metadata": {},
   "outputs": [
    {
     "name": "stdout",
     "output_type": "stream",
     "text": [
      "('a', 'b', 'c', 'd')\n"
     ]
    }
   ],
   "source": [
    "tpl=(\"a\",\"b\",\"c\",\"d\",\"e\")\n",
    "tp2=list(tpl)\n",
    "tp2.remove(\"e\")\n",
    "tpl=tuple(tp2)\n",
    "print(tpl)"
   ]
  },
  {
   "cell_type": "code",
   "execution_count": 21,
   "id": "e572379f",
   "metadata": {},
   "outputs": [
    {
     "name": "stdout",
     "output_type": "stream",
     "text": [
      "apple\n",
      "banana\n",
      "cherry\n"
     ]
    }
   ],
   "source": [
    "frts=(\"apple\",\"banana\",\"cherry\") \n",
    "(red,yellow,green)=frts           # Assign a variables particular tuple value\n",
    "print(red)\n",
    "print(yellow)\n",
    "print(green)"
   ]
  },
  {
   "cell_type": "code",
   "execution_count": 22,
   "id": "87f781e7",
   "metadata": {},
   "outputs": [
    {
     "name": "stdout",
     "output_type": "stream",
     "text": [
      "apple\n",
      "['banana', 'cherry', 'strawberry', 'raspberry']\n",
      "a\n"
     ]
    }
   ],
   "source": [
    "fs=(\"apple\",\"banana\",\"cherry\",\"strawberry\",\"raspberry\",\"a\") \n",
    "(g,*r,y)=fs   # Assign a variable tuple value and * is used for morethan one value store in a variable\n",
    "print(g)\n",
    "print(r)\n",
    "print(y)"
   ]
  },
  {
   "cell_type": "markdown",
   "id": "0d16cffc",
   "metadata": {},
   "source": [
    "# join tuples"
   ]
  },
  {
   "cell_type": "code",
   "execution_count": 23,
   "id": "9d597056",
   "metadata": {},
   "outputs": [
    {
     "name": "stdout",
     "output_type": "stream",
     "text": [
      "('a', 'b', 'c', 'd', 'e', 'f')\n"
     ]
    }
   ],
   "source": [
    "tp1=(\"a\",\"b\",\"c\")\n",
    "tp2=(\"d\",\"e\",\"f\")\n",
    "tp3=tp1+tp2\n",
    "print(tp3)"
   ]
  },
  {
   "cell_type": "code",
   "execution_count": 24,
   "id": "d30c2f36",
   "metadata": {},
   "outputs": [
    {
     "name": "stdout",
     "output_type": "stream",
     "text": [
      "('a', 'b', 'c', 'a', 'b', 'c')\n"
     ]
    }
   ],
   "source": [
    "tp1=(\"a\",\"b\",\"c\")*2     # Multify the tuple values\n",
    "print(tp1)"
   ]
  },
  {
   "cell_type": "markdown",
   "id": "3afcecfa",
   "metadata": {},
   "source": [
    "# Tuple Methods"
   ]
  },
  {
   "cell_type": "code",
   "execution_count": 25,
   "id": "ab0113b4",
   "metadata": {},
   "outputs": [
    {
     "data": {
      "text/plain": [
       "2"
      ]
     },
     "execution_count": 25,
     "metadata": {},
     "output_type": "execute_result"
    }
   ],
   "source": [
    "tp=(\"a\",\"b\",\"c\",\"a\") # Count the one value howmany times writen\n",
    "tp.count(\"a\")"
   ]
  },
  {
   "cell_type": "code",
   "execution_count": 26,
   "id": "81fdd75b",
   "metadata": {},
   "outputs": [
    {
     "data": {
      "text/plain": [
       "0"
      ]
     },
     "execution_count": 26,
     "metadata": {},
     "output_type": "execute_result"
    }
   ],
   "source": [
    "tp=(\"a\",\"b\",\"c\")\n",
    "tp.index(\"a\")    # print the value of index position"
   ]
  },
  {
   "cell_type": "code",
   "execution_count": null,
   "id": "7a33dc97",
   "metadata": {},
   "outputs": [],
   "source": []
  },
  {
   "cell_type": "code",
   "execution_count": null,
   "id": "1c035fe3",
   "metadata": {},
   "outputs": [],
   "source": []
  },
  {
   "cell_type": "code",
   "execution_count": null,
   "id": "58821f39",
   "metadata": {},
   "outputs": [],
   "source": []
  },
  {
   "cell_type": "code",
   "execution_count": null,
   "id": "995b40fb",
   "metadata": {},
   "outputs": [],
   "source": []
  },
  {
   "cell_type": "code",
   "execution_count": null,
   "id": "e637b8ed",
   "metadata": {},
   "outputs": [],
   "source": []
  }
 ],
 "metadata": {
  "kernelspec": {
   "display_name": "Python 3 (ipykernel)",
   "language": "python",
   "name": "python3"
  },
  "language_info": {
   "codemirror_mode": {
    "name": "ipython",
    "version": 3
   },
   "file_extension": ".py",
   "mimetype": "text/x-python",
   "name": "python",
   "nbconvert_exporter": "python",
   "pygments_lexer": "ipython3",
   "version": "3.9.12"
  }
 },
 "nbformat": 4,
 "nbformat_minor": 5
}
