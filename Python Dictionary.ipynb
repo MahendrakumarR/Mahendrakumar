{
 "cells": [
  {
   "cell_type": "markdown",
   "id": "4383c43b",
   "metadata": {},
   "source": [
    "# Dictionaries are:\n",
    "  \n",
    "  As of python version 3.7, dictionaries are ordered. In python 3.6 and earlier,dictionaries are unordered\n",
    "  \n",
    "  Changeable\n",
    "  \n",
    "  Duplicates Not Allowed"
   ]
  },
  {
   "cell_type": "code",
   "execution_count": 1,
   "id": "eb8f7101",
   "metadata": {},
   "outputs": [
    {
     "name": "stdout",
     "output_type": "stream",
     "text": [
      "{'brand': 'ford', 'model': 'Mustang', 'year': 2000}\n"
     ]
    }
   ],
   "source": [
    "dict={\"brand\":\"ford\",     # Dictionaries are used Currly brackets And keys :values\n",
    "     \"model\":\"Mustang\",\n",
    "     \"year\":2000}\n",
    "print(dict)"
   ]
  },
  {
   "cell_type": "code",
   "execution_count": 2,
   "id": "a77fe8dc",
   "metadata": {},
   "outputs": [
    {
     "name": "stdout",
     "output_type": "stream",
     "text": [
      "3\n"
     ]
    }
   ],
   "source": [
    "dict={\"brand\":\"ford\",     \n",
    "     \"model\":\"Mustang\",\n",
    "     \"year\":2000}\n",
    "print(len(dict))"
   ]
  },
  {
   "cell_type": "markdown",
   "id": "1c928442",
   "metadata": {},
   "source": [
    "# Dictionary Data Types"
   ]
  },
  {
   "cell_type": "code",
   "execution_count": 3,
   "id": "2c79b4b2",
   "metadata": {},
   "outputs": [
    {
     "name": "stdout",
     "output_type": "stream",
     "text": [
      "{'brand': 'ford', 'electric': False, 'year': 2000, 'color': ['red', 'orange', 'white'], 'price': 150000.3}\n"
     ]
    }
   ],
   "source": [
    "dict={\"brand\":\"ford\",     \n",
    "     \"electric\":False,\n",
    "     \"year\":2000,\n",
    "     \"color\":[\"red\",\"orange\",\"white\"],\n",
    "     \"price\":150000.30}\n",
    "print(dict)"
   ]
  },
  {
   "cell_type": "markdown",
   "id": "178a8665",
   "metadata": {},
   "source": [
    "# type()"
   ]
  },
  {
   "cell_type": "code",
   "execution_count": 4,
   "id": "890497ea",
   "metadata": {},
   "outputs": [
    {
     "name": "stdout",
     "output_type": "stream",
     "text": [
      "<class 'dict'>\n"
     ]
    }
   ],
   "source": [
    "dict={\"brand\":\"ford\",     \n",
    "     \"model\":\"Mustang\",\n",
    "     \"year\":2000}\n",
    "print(type(dict))"
   ]
  },
  {
   "cell_type": "markdown",
   "id": "e43720cc",
   "metadata": {},
   "source": [
    "# Accessing Dictionary elements in python"
   ]
  },
  {
   "cell_type": "code",
   "execution_count": 5,
   "id": "e3f6ea4d",
   "metadata": {},
   "outputs": [
    {
     "name": "stdout",
     "output_type": "stream",
     "text": [
      "Mustang\n"
     ]
    }
   ],
   "source": [
    "dict={\"brand\":\"ford\",     \n",
    "     \"model\":\"Mustang\",\n",
    "     \"year\":2000}\n",
    "x=dict[\"model\"]          # store the model value in x     # same for the below code\n",
    "print(x)"
   ]
  },
  {
   "cell_type": "code",
   "execution_count": 6,
   "id": "787ea0bd",
   "metadata": {},
   "outputs": [
    {
     "name": "stdout",
     "output_type": "stream",
     "text": [
      "ford\n"
     ]
    }
   ],
   "source": [
    "dict={\"brand\":\"ford\",     \n",
    "     \"model\":\"Mustang\",\n",
    "     \"year\":2000}\n",
    "x=dict.get(\"brand\")      # get the brand value in x\n",
    "print(x)"
   ]
  },
  {
   "cell_type": "code",
   "execution_count": 7,
   "id": "b826ff6b",
   "metadata": {},
   "outputs": [
    {
     "name": "stdout",
     "output_type": "stream",
     "text": [
      "Mustang\n"
     ]
    }
   ],
   "source": [
    "dict={\"brand\":\"ford\",     \n",
    "     \"model\":\"Mustang\",\n",
    "     \"year\":2000}        \n",
    "print(dict.get(\"model\"))   # print the particular key value"
   ]
  },
  {
   "cell_type": "code",
   "execution_count": 8,
   "id": "3677072d",
   "metadata": {},
   "outputs": [
    {
     "name": "stdout",
     "output_type": "stream",
     "text": [
      "dict_keys(['brand', 'model', 'year'])\n"
     ]
    }
   ],
   "source": [
    "dict={\"brand\":\"ford\",     \n",
    "     \"model\":\"Mustang\",\n",
    "     \"year\":2000}        \n",
    "print(dict.keys())         # print only the keys in the dictionary    # same for the below code"
   ]
  },
  {
   "cell_type": "code",
   "execution_count": 9,
   "id": "693c9904",
   "metadata": {},
   "outputs": [
    {
     "name": "stdout",
     "output_type": "stream",
     "text": [
      "dict_keys(['brand', 'model', 'year'])\n"
     ]
    }
   ],
   "source": [
    "dict={\"brand\":\"ford\",     \n",
    "     \"model\":\"Mustang\",\n",
    "     \"year\":2000}\n",
    "x=dict.keys()\n",
    "print(x)"
   ]
  },
  {
   "cell_type": "code",
   "execution_count": 10,
   "id": "554f6c2a",
   "metadata": {},
   "outputs": [
    {
     "name": "stdout",
     "output_type": "stream",
     "text": [
      "dict_values(['ford', 'Mustang', 2000])\n"
     ]
    }
   ],
   "source": [
    "dict={\"brand\":\"ford\",     \n",
    "     \"model\":\"Mustang\",\n",
    "     \"year\":2000}        \n",
    "print(dict.values())         # print only the value in the dictionary    # same for the below code"
   ]
  },
  {
   "cell_type": "code",
   "execution_count": 11,
   "id": "24056f17",
   "metadata": {},
   "outputs": [
    {
     "name": "stdout",
     "output_type": "stream",
     "text": [
      "dict_values(['ford', 'Mustang', 2000])\n"
     ]
    }
   ],
   "source": [
    "dict={\"brand\":\"ford\",     \n",
    "     \"model\":\"Mustang\",\n",
    "     \"year\":2000}\n",
    "x=dict.values()\n",
    "print(x)"
   ]
  },
  {
   "cell_type": "code",
   "execution_count": 12,
   "id": "58ba4a00",
   "metadata": {},
   "outputs": [
    {
     "name": "stdout",
     "output_type": "stream",
     "text": [
      "dict_keys(['brand', 'model', 'year', 'color'])\n"
     ]
    }
   ],
   "source": [
    "dict={\"brand\":\"ford\",     \n",
    "     \"model\":\"Mustang\",\n",
    "     \"year\":2000}\n",
    "dict[\"color\"]=\"red\"     # Add a color into the dictionary\n",
    "x=dict.keys()\n",
    "print(x)"
   ]
  },
  {
   "cell_type": "code",
   "execution_count": 13,
   "id": "3bd7278e",
   "metadata": {},
   "outputs": [
    {
     "name": "stdout",
     "output_type": "stream",
     "text": [
      "dict_items([('brand', 'ford'), ('model', 'Mustang'), ('year', 2000)])\n"
     ]
    }
   ],
   "source": [
    "dict={\"brand\":\"ford\",     \n",
    "     \"model\":\"Mustang\",\n",
    "     \"year\":2000}        \n",
    "print(dict.items())         # print the key with a value in pair"
   ]
  },
  {
   "cell_type": "markdown",
   "id": "50934145",
   "metadata": {},
   "source": [
    "# if statement "
   ]
  },
  {
   "cell_type": "code",
   "execution_count": 14,
   "id": "726a8474",
   "metadata": {},
   "outputs": [
    {
     "name": "stdout",
     "output_type": "stream",
     "text": [
      "Yes,in this dictionary\n"
     ]
    }
   ],
   "source": [
    "dict={\"brand\":\"ford\",     \n",
    "     \"model\":\"Mustang\",\n",
    "     \"year\":2000}        \n",
    "if \"model\" in dict:\n",
    "    print(\"Yes,in this dictionary\")\n",
    "else:\n",
    "    print(\"No,in this dictionary\")"
   ]
  },
  {
   "cell_type": "markdown",
   "id": "31dcf0f8",
   "metadata": {},
   "source": [
    "# change / update a value"
   ]
  },
  {
   "cell_type": "code",
   "execution_count": 15,
   "id": "15bd5a31",
   "metadata": {},
   "outputs": [
    {
     "name": "stdout",
     "output_type": "stream",
     "text": [
      "{'brand': 'ford', 'model': 'Mustang', 'year': 2023}\n"
     ]
    }
   ],
   "source": [
    "dict={\"brand\":\"ford\",     \n",
    "     \"model\":\"Mustang\",\n",
    "     \"year\":2000}  \n",
    "dict[\"year\"]=2023\n",
    "print(dict)"
   ]
  },
  {
   "cell_type": "code",
   "execution_count": 16,
   "id": "958fe23e",
   "metadata": {},
   "outputs": [
    {
     "name": "stdout",
     "output_type": "stream",
     "text": [
      "{'brand': 'ford', 'model': 'Mustang', 'year': 2024}\n"
     ]
    }
   ],
   "source": [
    "dict={\"brand\":\"ford\",     \n",
    "     \"model\":\"Mustang\",\n",
    "     \"year\":2000}  \n",
    "dict.update({\"year\":2024}) # update the value in the dictionary\n",
    "print(dict)"
   ]
  },
  {
   "cell_type": "markdown",
   "id": "a54dd026",
   "metadata": {},
   "source": [
    "# Add item in dictionary"
   ]
  },
  {
   "cell_type": "code",
   "execution_count": 17,
   "id": "6838bb5e",
   "metadata": {},
   "outputs": [
    {
     "name": "stdout",
     "output_type": "stream",
     "text": [
      "{'brand': 'ford', 'model': 'Mustang', 'year': 2000, 'color': 'red'}\n"
     ]
    }
   ],
   "source": [
    "dict={\"brand\":\"ford\",     \n",
    "     \"model\":\"Mustang\",\n",
    "     \"year\":2000}  \n",
    "dict[\"color\"]=\"red\"\n",
    "print(dict)"
   ]
  },
  {
   "cell_type": "markdown",
   "id": "e67ac473",
   "metadata": {},
   "source": [
    "# Remove item in dictionary"
   ]
  },
  {
   "cell_type": "code",
   "execution_count": 18,
   "id": "3a75e798",
   "metadata": {},
   "outputs": [
    {
     "name": "stdout",
     "output_type": "stream",
     "text": [
      "Mustang\n",
      "{'brand': 'ford', 'year': 2000}\n"
     ]
    }
   ],
   "source": [
    "dict={\"brand\":\"ford\",     \n",
    "     \"model\":\"Mustang\",\n",
    "     \"year\":2000}  \n",
    "print(dict.pop(\"model\"))    # delete the item in the dictionary\n",
    "print(dict)"
   ]
  },
  {
   "cell_type": "code",
   "execution_count": 19,
   "id": "42497b2c",
   "metadata": {},
   "outputs": [
    {
     "name": "stdout",
     "output_type": "stream",
     "text": [
      "{'brand': 'ford', 'year': 2000}\n"
     ]
    }
   ],
   "source": [
    "dict={\"brand\":\"ford\",     \n",
    "     \"model\":\"Mustang\",\n",
    "     \"year\":2000}  \n",
    "dict.pop(\"model\")    # delete the item in the dictionary      # same the above code\n",
    "print(dict)"
   ]
  },
  {
   "cell_type": "code",
   "execution_count": 20,
   "id": "427af192",
   "metadata": {},
   "outputs": [
    {
     "name": "stdout",
     "output_type": "stream",
     "text": [
      "{'brand': 'ford', 'model': 'Mustang'}\n"
     ]
    }
   ],
   "source": [
    "dict={\"brand\":\"ford\",     \n",
    "     \"model\":\"Mustang\",\n",
    "     \"year\":2000}  \n",
    "dict.popitem()    # random item will  be deleted\n",
    "print(dict)"
   ]
  },
  {
   "cell_type": "code",
   "execution_count": 21,
   "id": "1eab2389",
   "metadata": {},
   "outputs": [
    {
     "name": "stdout",
     "output_type": "stream",
     "text": [
      "<class 'dict'>\n"
     ]
    }
   ],
   "source": [
    "dict={\"brand\":\"ford\",     \n",
    "     \"model\":\"Mustang\",\n",
    "     \"year\":2000}  \n",
    "del dict                 # delete the dictionary elements\n",
    "print(dict)"
   ]
  },
  {
   "cell_type": "code",
   "execution_count": 22,
   "id": "077865e9",
   "metadata": {},
   "outputs": [
    {
     "name": "stdout",
     "output_type": "stream",
     "text": [
      "{}\n"
     ]
    }
   ],
   "source": [
    "dict={\"brand\":\"ford\",     \n",
    "     \"model\":\"Mustang\",\n",
    "     \"year\":2000}  \n",
    "dict.clear()            # clear the dictionary elements\n",
    "print(dict)"
   ]
  },
  {
   "cell_type": "markdown",
   "id": "94090dec",
   "metadata": {},
   "source": [
    "# for loop"
   ]
  },
  {
   "cell_type": "code",
   "execution_count": 23,
   "id": "f0aaf67a",
   "metadata": {},
   "outputs": [
    {
     "name": "stdout",
     "output_type": "stream",
     "text": [
      "brand\n",
      "model\n",
      "year\n",
      "color\n"
     ]
    }
   ],
   "source": [
    "dict={\"brand\":\"ford\",     \n",
    "     \"model\":\"Mustang\",\n",
    "     \"year\":2000,\n",
    "     \"color\":\"red\"}  \n",
    "for x in dict:\n",
    "    print(x)         # print the keys in the dictionary\n"
   ]
  },
  {
   "cell_type": "code",
   "execution_count": 24,
   "id": "fdd0b633",
   "metadata": {},
   "outputs": [
    {
     "name": "stdout",
     "output_type": "stream",
     "text": [
      "brand\n",
      "model\n",
      "year\n",
      "color\n"
     ]
    }
   ],
   "source": [
    "dict={\"brand\":\"ford\",     \n",
    "     \"model\":\"Mustang\",\n",
    "     \"year\":2000,\n",
    "     \"color\":\"red\"}  \n",
    "for x in dict.keys():   # only print the keys\n",
    "    print(x) "
   ]
  },
  {
   "cell_type": "code",
   "execution_count": 25,
   "id": "526bab21",
   "metadata": {},
   "outputs": [
    {
     "name": "stdout",
     "output_type": "stream",
     "text": [
      "ford\n",
      "Mustang\n",
      "2000\n",
      "red\n"
     ]
    }
   ],
   "source": [
    "dict={\"brand\":\"ford\",     \n",
    "     \"model\":\"Mustang\",\n",
    "     \"year\":2000,\n",
    "     \"color\":\"red\"}  \n",
    "for x in dict.values():   # only print the values\n",
    "    print(x) "
   ]
  },
  {
   "cell_type": "code",
   "execution_count": 26,
   "id": "0c39a824",
   "metadata": {},
   "outputs": [
    {
     "name": "stdout",
     "output_type": "stream",
     "text": [
      "brand ford\n",
      "model Mustang\n",
      "year 2000\n",
      "color red\n"
     ]
    }
   ],
   "source": [
    "dict={\"brand\":\"ford\",     \n",
    "     \"model\":\"Mustang\",\n",
    "     \"year\":2000,\n",
    "     \"color\":\"red\"}  \n",
    "for x,y in dict.items():   # print the keys and values\n",
    "    print(x,y) "
   ]
  },
  {
   "cell_type": "code",
   "execution_count": 27,
   "id": "c04fe663",
   "metadata": {},
   "outputs": [
    {
     "name": "stdout",
     "output_type": "stream",
     "text": [
      "{'brand': 'ford', 'model': 'Mustang', 'year': 2000, 'color': 'red'}\n"
     ]
    }
   ],
   "source": [
    "dict={\"brand\":\"ford\",     \n",
    "     \"model\":\"Mustang\",\n",
    "     \"year\":2000,\n",
    "     \"color\":\"red\"}  \n",
    "dict2=dict.copy()   # copy the dictionary\n",
    "print(dict2) "
   ]
  },
  {
   "cell_type": "markdown",
   "id": "54fcde5d",
   "metadata": {},
   "source": [
    "# Nested Dictionary"
   ]
  },
  {
   "cell_type": "code",
   "execution_count": 28,
   "id": "6c91b6c5",
   "metadata": {},
   "outputs": [
    {
     "name": "stdout",
     "output_type": "stream",
     "text": [
      "{'child1': {'brand': 'ford', 'model': 'Mustang', 'year': 2000, 'color': 'red'}, 'child2': {'Name': 'apple', 'color': 'red', 'fresh': 'yes'}, 'child3': {'letters': 1, 'alpha': 'a', 'complex': 1j}}\n"
     ]
    }
   ],
   "source": [
    "dict={\n",
    "    \"child1\":{\"brand\":\"ford\",     \n",
    "     \"model\":\"Mustang\",\n",
    "     \"year\":2000,\n",
    "     \"color\":\"red\"},\n",
    "    \"child2\":{\n",
    "        \"Name\":\"apple\",\n",
    "        \"color\":\"red\",\n",
    "        \"fresh\":\"yes\"},\n",
    "    \"child3\":{\n",
    "        \"letters\":1,\n",
    "        \"alpha\":\"a\",\n",
    "        \"complex\":1j}\n",
    "    }\n",
    "print(dict)                  # same code for below"
   ]
  },
  {
   "cell_type": "code",
   "execution_count": 29,
   "id": "f2006e38",
   "metadata": {},
   "outputs": [
    {
     "name": "stdout",
     "output_type": "stream",
     "text": [
      "{'child1': {'brand': 'ford', 'model': 'Mustang', 'year': 2000, 'color': 'red'}, 'child2': {'Name': 'apple', 'color': 'red', 'fresh': 'yes'}, 'child3': {'letters': 1, 'alpha': 'a', 'complex': 1j}}\n"
     ]
    }
   ],
   "source": [
    "child1={\n",
    "     \"brand\":\"ford\",     \n",
    "     \"model\":\"Mustang\",\n",
    "     \"year\":2000,\n",
    "     \"color\":\"red\"}\n",
    "child2={\n",
    "        \"Name\":\"apple\",\n",
    "        \"color\":\"red\",\n",
    "        \"fresh\":\"yes\"}\n",
    "child3={\n",
    "        \"letters\":1,\n",
    "        \"alpha\":\"a\",\n",
    "        \"complex\":1j}\n",
    "my={\n",
    "    \"child1\":child1,\n",
    "    \"child2\":child2,\n",
    "    \"child3\":child3\n",
    "}\n",
    "print(my)"
   ]
  },
  {
   "cell_type": "code",
   "execution_count": null,
   "id": "19ed8451",
   "metadata": {},
   "outputs": [],
   "source": []
  },
  {
   "cell_type": "code",
   "execution_count": null,
   "id": "2be78320",
   "metadata": {},
   "outputs": [],
   "source": []
  },
  {
   "cell_type": "code",
   "execution_count": null,
   "id": "97ee285e",
   "metadata": {},
   "outputs": [],
   "source": []
  },
  {
   "cell_type": "code",
   "execution_count": null,
   "id": "f7b27fb8",
   "metadata": {},
   "outputs": [],
   "source": []
  }
 ],
 "metadata": {
  "kernelspec": {
   "display_name": "Python 3 (ipykernel)",
   "language": "python",
   "name": "python3"
  },
  "language_info": {
   "codemirror_mode": {
    "name": "ipython",
    "version": 3
   },
   "file_extension": ".py",
   "mimetype": "text/x-python",
   "name": "python",
   "nbconvert_exporter": "python",
   "pygments_lexer": "ipython3",
   "version": "3.9.12"
  }
 },
 "nbformat": 4,
 "nbformat_minor": 5
}
