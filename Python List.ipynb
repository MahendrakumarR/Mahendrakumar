{
 "cells": [
  {
   "cell_type": "markdown",
   "id": "80f369b9",
   "metadata": {},
   "source": [
    "# List"
   ]
  },
  {
   "cell_type": "markdown",
   "id": "70cc4b6d",
   "metadata": {},
   "source": [
    "# list items are:\n",
    "     Ordered           Ex:-[0,1,2....]\n",
    "     Changeable        Ex:-[\"a\",\"b\",\"c\"] or [\"k\",\"b\",\"c\"]\n",
    "     Allow duplicates  Ex:-[\"a\",\"b\",\"a\"]"
   ]
  },
  {
   "cell_type": "code",
   "execution_count": null,
   "id": "1a9a9a8f",
   "metadata": {},
   "outputs": [],
   "source": [
    "lst=[1,2,3,4] # List using square prackets\n",
    "type(lst)"
   ]
  },
  {
   "cell_type": "code",
   "execution_count": null,
   "id": "66568c72",
   "metadata": {},
   "outputs": [],
   "source": [
    "letters=[\"a\",\"b\",\"c\",\"d\",\"e\"] # print the string values\n",
    "print(letters)"
   ]
  },
  {
   "cell_type": "code",
   "execution_count": null,
   "id": "0ed587e4",
   "metadata": {},
   "outputs": [],
   "source": [
    "mix=[1,2.0,\"a\",True] # print the different data types  integer, float, string, boolean\n",
    "print(mix)"
   ]
  },
  {
   "cell_type": "code",
   "execution_count": null,
   "id": "c9f26a74",
   "metadata": {},
   "outputs": [],
   "source": [
    "lst=[[1,2],[\"a\",\"b\"]] # List containg sub list\n",
    "print(lst)"
   ]
  },
  {
   "cell_type": "code",
   "execution_count": null,
   "id": "983d6598",
   "metadata": {},
   "outputs": [],
   "source": [
    "lst=[\"a\",\"b\",\"c\",\"d\"]\n",
    "print(len(lst)) # length of the list\n"
   ]
  },
  {
   "cell_type": "markdown",
   "id": "57fd51bc",
   "metadata": {},
   "source": [
    "# list() constructor"
   ]
  },
  {
   "cell_type": "code",
   "execution_count": null,
   "id": "dba8dd86",
   "metadata": {},
   "outputs": [],
   "source": [
    "lst=list((\"Apple\",\"banana\",\"cherry\")) # The Double round-brackets used to create a list\n",
    "print(lst)"
   ]
  },
  {
   "cell_type": "markdown",
   "id": "16b7106b",
   "metadata": {},
   "source": [
    "# Accessing Elements in List"
   ]
  },
  {
   "cell_type": "code",
   "execution_count": null,
   "id": "5f79d3e3",
   "metadata": {},
   "outputs": [],
   "source": [
    "mix=[1,2,\"a\",\"b\",\"c\",\"d\",\"e\"]\n",
    "print(mix)"
   ]
  },
  {
   "cell_type": "code",
   "execution_count": null,
   "id": "2ed8d768",
   "metadata": {},
   "outputs": [],
   "source": [
    "print(mix[3]) # index position value print"
   ]
  },
  {
   "cell_type": "code",
   "execution_count": null,
   "id": "ed93db92",
   "metadata": {},
   "outputs": [],
   "source": [
    "list=[\"Hi\",\"Hello\",\"certificate\",\"simple\"] # last position is printed\n",
    "print(list[-1] )"
   ]
  },
  {
   "cell_type": "code",
   "execution_count": null,
   "id": "168969c8",
   "metadata": {},
   "outputs": [],
   "source": [
    "list[:3] # first three elements are printed"
   ]
  },
  {
   "cell_type": "code",
   "execution_count": null,
   "id": "8a2e4283",
   "metadata": {},
   "outputs": [],
   "source": [
    "list[3:] # first three elements are leve it"
   ]
  },
  {
   "cell_type": "code",
   "execution_count": null,
   "id": "5c882bce",
   "metadata": {},
   "outputs": [],
   "source": [
    "ls=[\"apple\",\"banana\",\"cherry\",\"mango\",\"orange\",\"berry\"]\n",
    "print(ls[::2]) "
   ]
  },
  {
   "cell_type": "code",
   "execution_count": null,
   "id": "d59b2ba4",
   "metadata": {},
   "outputs": [],
   "source": [
    "print(ls[2:5])"
   ]
  },
  {
   "cell_type": "markdown",
   "id": "236e72fb",
   "metadata": {},
   "source": [
    "# if Statement"
   ]
  },
  {
   "cell_type": "code",
   "execution_count": null,
   "id": "ca85a102",
   "metadata": {},
   "outputs": [],
   "source": [
    "ls=[\"apple\",\"banana\",\"cherry\",\"mango\",\"orange\",\"berry\"]\n",
    "if \"mango\"in ls:                                          # Check mango is present or not using if statement\n",
    "    print(\"Yes,mango is present\")\n",
    "else:\n",
    "    print(\"No,mango is not present\")"
   ]
  },
  {
   "cell_type": "markdown",
   "id": "aeb1f766",
   "metadata": {},
   "source": [
    "# for loop"
   ]
  },
  {
   "cell_type": "code",
   "execution_count": 16,
   "id": "d81fb7a7",
   "metadata": {},
   "outputs": [
    {
     "name": "stdout",
     "output_type": "stream",
     "text": [
      "['apple', 'banana', 'cherry', 'mango', 'orange', 'berry']\n",
      "['apple', 'banana', 'cherry', 'mango', 'orange', 'berry']\n",
      "['apple', 'banana', 'cherry', 'mango', 'orange', 'berry']\n",
      "['apple', 'banana', 'cherry', 'mango', 'orange', 'berry']\n",
      "['apple', 'banana', 'cherry', 'mango', 'orange', 'berry']\n",
      "['apple', 'banana', 'cherry', 'mango', 'orange', 'berry']\n"
     ]
    }
   ],
   "source": [
    "ls=[\"apple\",\"banana\",\"cherry\",\"mango\",\"orange\",\"berry\"]\n",
    "for i in ls:                                             # use for loop for print the list elements one by one\n",
    "    print(i) "
   ]
  },
  {
   "cell_type": "code",
   "execution_count": 18,
   "id": "22694d29",
   "metadata": {},
   "outputs": [
    {
     "name": "stdout",
     "output_type": "stream",
     "text": [
      "0\n",
      "1\n",
      "2\n",
      "3\n",
      "4\n",
      "5\n"
     ]
    }
   ],
   "source": [
    "ls=[\"apple\",\"banana\",\"cherry\",\"mango\",\"orange\",\"berry\"]\n",
    "for i in range(len(ls)):                                # print the length of the list in index positions\n",
    "    print(i)"
   ]
  },
  {
   "cell_type": "code",
   "execution_count": 13,
   "id": "a508651a",
   "metadata": {},
   "outputs": [
    {
     "name": "stdout",
     "output_type": "stream",
     "text": [
      "['banana', 'cherry']\n",
      "['banana', 'cherry']\n",
      "['banana', 'cherry']\n",
      "['banana', 'cherry']\n",
      "['banana', 'cherry']\n",
      "['banana', 'cherry']\n"
     ]
    }
   ],
   "source": [
    "ls=[\"apple\",\"banana\",\"cherry\",\"mango\",\"orange\",\"berry\"]\n",
    "for i in range(len(ls)):                               \n",
    "    print(ls[1:3])"
   ]
  },
  {
   "cell_type": "code",
   "execution_count": 14,
   "id": "fb70d8b8",
   "metadata": {},
   "outputs": [
    {
     "name": "stdout",
     "output_type": "stream",
     "text": [
      "['apple', 'banana', 'cherry', 'mango', 'orange', 'berry']\n",
      "['apple', 'banana', 'cherry', 'mango', 'orange', 'berry']\n",
      "['apple', 'banana', 'cherry', 'mango', 'orange', 'berry']\n",
      "['apple', 'banana', 'cherry', 'mango', 'orange', 'berry']\n",
      "['apple', 'banana', 'cherry', 'mango', 'orange', 'berry']\n",
      "['apple', 'banana', 'cherry', 'mango', 'orange', 'berry']\n"
     ]
    }
   ],
   "source": [
    "ls=[\"apple\",\"banana\",\"cherry\",\"mango\",\"orange\",\"berry\"]\n",
    "for i in range(len(ls)):                               \n",
    "    print(ls)"
   ]
  },
  {
   "cell_type": "code",
   "execution_count": null,
   "id": "93558532",
   "metadata": {},
   "outputs": [],
   "source": []
  },
  {
   "cell_type": "markdown",
   "id": "76361441",
   "metadata": {},
   "source": [
    "# While loop"
   ]
  },
  {
   "cell_type": "code",
   "execution_count": null,
   "id": "9853fcc0",
   "metadata": {},
   "outputs": [],
   "source": [
    "ls=[\"apple\",\"banana\",\"cherry\",\"mango\",\"orange\",\"berry\"]\n",
    "i=0\n",
    "while i<len(ls):\n",
    "    print(i)\n",
    "    i=i+1"
   ]
  },
  {
   "cell_type": "code",
   "execution_count": null,
   "id": "87729ef5",
   "metadata": {},
   "outputs": [],
   "source": []
  },
  {
   "cell_type": "markdown",
   "id": "b269310e",
   "metadata": {},
   "source": [
    "# List Methods"
   ]
  },
  {
   "cell_type": "code",
   "execution_count": 21,
   "id": "e726e3ca",
   "metadata": {},
   "outputs": [
    {
     "name": "stdout",
     "output_type": "stream",
     "text": [
      "['apple', 'banana', 'cherry', 'mango', 'hi']\n"
     ]
    }
   ],
   "source": [
    "ls=[\"apple\",\"banana\",\"cherry\",\"mango\"]\n",
    "ls.append(\"hi\")                           # Add a element in list using append method. new element store in end of the list\n",
    "print(ls)"
   ]
  },
  {
   "cell_type": "code",
   "execution_count": 22,
   "id": "dad59d5d",
   "metadata": {},
   "outputs": [
    {
     "name": "stdout",
     "output_type": "stream",
     "text": [
      "[]\n"
     ]
    }
   ],
   "source": [
    "ls=[\"apple\",\"banana\",\"cherry\",\"mango\"]\n",
    "ls.clear()                             # All elements are clear in the list\n",
    "print(ls)    "
   ]
  },
  {
   "cell_type": "code",
   "execution_count": 116,
   "id": "1a544e4d",
   "metadata": {},
   "outputs": [
    {
     "name": "stdout",
     "output_type": "stream",
     "text": [
      "['apple', 'banana', 'cherry', 'mango', 'mango']\n"
     ]
    }
   ],
   "source": [
    "ls=[\"apple\",\"banana\",\"cherry\",\"mango\",\"mango\"]\n",
    "ls.count(\"mango\")                             # count the elements in the lists"
   ]
  },
  {
   "cell_type": "code",
   "execution_count": 47,
   "id": "46d5aee8",
   "metadata": {},
   "outputs": [
    {
     "name": "stdout",
     "output_type": "stream",
     "text": [
      "[1, 2, 3, 4, 'a', 'b', 'c', 'd']\n"
     ]
    }
   ],
   "source": [
    "ls1=[1,2,3,4]\n",
    "ls2=[\"a\",\"b\",\"c\",\"d\"]\n",
    "ls1.extend(ls2)          # Extend the list\n",
    "print(ls1)"
   ]
  },
  {
   "cell_type": "code",
   "execution_count": 50,
   "id": "4ce597aa",
   "metadata": {},
   "outputs": [
    {
     "name": "stdout",
     "output_type": "stream",
     "text": [
      "['a', 'b', 'c', 'd']\n"
     ]
    }
   ],
   "source": [
    "ls2.copy()    # copy the list elementss\n",
    "print(ls2)     "
   ]
  },
  {
   "cell_type": "code",
   "execution_count": 56,
   "id": "95deb25d",
   "metadata": {},
   "outputs": [
    {
     "data": {
      "text/plain": [
       "1"
      ]
     },
     "execution_count": 56,
     "metadata": {},
     "output_type": "execute_result"
    }
   ],
   "source": [
    "ls2.index(\"b\") # identify the given value index position"
   ]
  },
  {
   "cell_type": "code",
   "execution_count": 104,
   "id": "92c006cd",
   "metadata": {},
   "outputs": [
    {
     "name": "stdout",
     "output_type": "stream",
     "text": [
      "['a', 'e', 'b', 'c', 'd']\n"
     ]
    }
   ],
   "source": [
    "ls3=[\"a\",\"b\",\"c\",\"d\",]\n",
    "ls3.insert(1,\"e\")         # insert a element in any  position using index positions\n",
    "print(ls3)"
   ]
  },
  {
   "cell_type": "code",
   "execution_count": 118,
   "id": "ad4d1f82",
   "metadata": {},
   "outputs": [
    {
     "name": "stdout",
     "output_type": "stream",
     "text": [
      "['a', 'e']\n"
     ]
    }
   ],
   "source": [
    "ls3.pop()       # Remove the element in specified position\n",
    "print(ls3)"
   ]
  },
  {
   "cell_type": "code",
   "execution_count": 109,
   "id": "b250fc0a",
   "metadata": {},
   "outputs": [
    {
     "name": "stdout",
     "output_type": "stream",
     "text": [
      "['a', 'e', 'c']\n"
     ]
    }
   ],
   "source": [
    "ls3.remove(\"b\")  # Remove specified value in the list\n",
    "print(ls3)"
   ]
  },
  {
   "cell_type": "code",
   "execution_count": 111,
   "id": "8079aee3",
   "metadata": {},
   "outputs": [
    {
     "name": "stdout",
     "output_type": "stream",
     "text": [
      "['d', 'c', 'b', 'a']\n"
     ]
    }
   ],
   "source": [
    "ls4=[\"a\",\"b\",\"c\",\"d\"] \n",
    "ls4.reverse()         # Reverse the list elements\n",
    "print(ls4)"
   ]
  },
  {
   "cell_type": "code",
   "execution_count": 114,
   "id": "6652128e",
   "metadata": {},
   "outputs": [
    {
     "name": "stdout",
     "output_type": "stream",
     "text": [
      "['a', 'b', 'd', 'g', 'h']\n"
     ]
    }
   ],
   "source": [
    "ls4=[\"d\",\"b\",\"g\",\"a\",\"h\"] \n",
    "ls4.sort()                # Order the list elements\n",
    "print(ls4)"
   ]
  },
  {
   "cell_type": "code",
   "execution_count": null,
   "id": "03c2cec7",
   "metadata": {},
   "outputs": [],
   "source": []
  },
  {
   "cell_type": "code",
   "execution_count": null,
   "id": "9355173c",
   "metadata": {},
   "outputs": [],
   "source": []
  },
  {
   "cell_type": "code",
   "execution_count": null,
   "id": "63a808e3",
   "metadata": {},
   "outputs": [],
   "source": []
  },
  {
   "cell_type": "code",
   "execution_count": null,
   "id": "190b9558",
   "metadata": {},
   "outputs": [],
   "source": []
  },
  {
   "cell_type": "code",
   "execution_count": null,
   "id": "fe6365a7",
   "metadata": {},
   "outputs": [],
   "source": []
  },
  {
   "cell_type": "code",
   "execution_count": null,
   "id": "3b6e62db",
   "metadata": {},
   "outputs": [],
   "source": []
  },
  {
   "cell_type": "code",
   "execution_count": null,
   "id": "cf8b7adb",
   "metadata": {},
   "outputs": [],
   "source": []
  }
 ],
 "metadata": {
  "kernelspec": {
   "display_name": "Python 3 (ipykernel)",
   "language": "python",
   "name": "python3"
  },
  "language_info": {
   "codemirror_mode": {
    "name": "ipython",
    "version": 3
   },
   "file_extension": ".py",
   "mimetype": "text/x-python",
   "name": "python",
   "nbconvert_exporter": "python",
   "pygments_lexer": "ipython3",
   "version": "3.9.12"
  }
 },
 "nbformat": 4,
 "nbformat_minor": 5
}
