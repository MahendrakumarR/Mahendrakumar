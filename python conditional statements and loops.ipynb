{
 "cells": [
  {
   "cell_type": "markdown",
   "id": "b3cde3d6",
   "metadata": {},
   "source": [
    "# Code structures \n",
    "    python conditions and if statements\n",
    "    \n",
    "# Loops\n",
    "     while\n",
    "     for"
   ]
  },
  {
   "cell_type": "markdown",
   "id": "ee9765c7",
   "metadata": {},
   "source": [
    "# if "
   ]
  },
  {
   "cell_type": "code",
   "execution_count": 1,
   "id": "17f321b9",
   "metadata": {},
   "outputs": [
    {
     "name": "stdout",
     "output_type": "stream",
     "text": [
      "The two values are equal\n"
     ]
    }
   ],
   "source": [
    "a=3\n",
    "b=3\n",
    "if a==b:          # The two values are same then if statement execute\n",
    "    print(\"The two values are equal\")"
   ]
  },
  {
   "cell_type": "code",
   "execution_count": 2,
   "id": "235ed9fc",
   "metadata": {},
   "outputs": [
    {
     "name": "stdout",
     "output_type": "stream",
     "text": [
      "The two values are not equal\n"
     ]
    }
   ],
   "source": [
    "a=2\n",
    "b=3\n",
    "if a!=b:          # The two values are not equal then if statement execute \n",
    "    print(\"The two values are not equal\")"
   ]
  },
  {
   "cell_type": "code",
   "execution_count": 3,
   "id": "169778ca",
   "metadata": {},
   "outputs": [
    {
     "name": "stdout",
     "output_type": "stream",
     "text": [
      "a is less than to b\n"
     ]
    }
   ],
   "source": [
    "a=10\n",
    "b=10.1\n",
    "if a<b:                       # a is less than b and the if statement execute\n",
    "    print(\"a is less than to b\")"
   ]
  },
  {
   "cell_type": "code",
   "execution_count": 4,
   "id": "39fc67e9",
   "metadata": {},
   "outputs": [
    {
     "name": "stdout",
     "output_type": "stream",
     "text": [
      "a is less than or equal to b\n"
     ]
    }
   ],
   "source": [
    "a=10\n",
    "b=10\n",
    "if a<=b:                       # a is less than or equal to b then if statement execute\n",
    "    print(\"a is less than or equal to b\")"
   ]
  },
  {
   "cell_type": "code",
   "execution_count": 5,
   "id": "a3990954",
   "metadata": {},
   "outputs": [
    {
     "name": "stdout",
     "output_type": "stream",
     "text": [
      "a is grater than to b\n"
     ]
    }
   ],
   "source": [
    "a=10.2\n",
    "b=10.1\n",
    "if a>b:                       # a is greater than to b and the if statement execute\n",
    "    print(\"a is grater than to b\")"
   ]
  },
  {
   "cell_type": "code",
   "execution_count": 6,
   "id": "2be216af",
   "metadata": {},
   "outputs": [
    {
     "name": "stdout",
     "output_type": "stream",
     "text": [
      "a is grater than or equal to b\n"
     ]
    }
   ],
   "source": [
    "a=10\n",
    "b=10\n",
    "if a>=b:                       # a is greater than or equal to b and the if statement execute\n",
    "    print(\"a is grater than or equal to b\")"
   ]
  },
  {
   "cell_type": "markdown",
   "id": "e8c3a94e",
   "metadata": {},
   "source": [
    "# indentation\n",
    "   (whitespace at the beginning of the line)"
   ]
  },
  {
   "cell_type": "code",
   "execution_count": 7,
   "id": "93855bbc",
   "metadata": {},
   "outputs": [
    {
     "name": "stdout",
     "output_type": "stream",
     "text": [
      "a is less than to b\n"
     ]
    }
   ],
   "source": [
    "a=23\n",
    "b=33\n",
    "if a<b:\n",
    "    print(\"a is less than to b\")   # Here No indentation error\n"
   ]
  },
  {
   "cell_type": "code",
   "execution_count": 8,
   "id": "089f3a72",
   "metadata": {},
   "outputs": [
    {
     "ename": "IndentationError",
     "evalue": "expected an indented block (1359364849.py, line 4)",
     "output_type": "error",
     "traceback": [
      "\u001b[1;36m  Input \u001b[1;32mIn [8]\u001b[1;36m\u001b[0m\n\u001b[1;33m    print(\"a is less than to b\")   # Will raise an indentation error\u001b[0m\n\u001b[1;37m    ^\u001b[0m\n\u001b[1;31mIndentationError\u001b[0m\u001b[1;31m:\u001b[0m expected an indented block\n"
     ]
    }
   ],
   "source": [
    "a=23\n",
    "b=33\n",
    "if a<b:\n",
    "print(\"a is less than to b\")   # Will raise an indentation error\n"
   ]
  },
  {
   "cell_type": "markdown",
   "id": "75b27521",
   "metadata": {},
   "source": [
    "# else"
   ]
  },
  {
   "cell_type": "code",
   "execution_count": 14,
   "id": "17afd4ff",
   "metadata": {
    "scrolled": true
   },
   "outputs": [
    {
     "name": "stdout",
     "output_type": "stream",
     "text": [
      "b is big\n"
     ]
    }
   ],
   "source": [
    "a=3\n",
    "b=4\n",
    "if a>b:                 # if statement error then execute else statement\n",
    "    print(\"a is big\")\n",
    "else:\n",
    "    print(\"b is big\")"
   ]
  },
  {
   "cell_type": "markdown",
   "id": "a11e3ff7",
   "metadata": {},
   "source": [
    "# elif"
   ]
  },
  {
   "cell_type": "code",
   "execution_count": 15,
   "id": "8f4e4f42",
   "metadata": {},
   "outputs": [
    {
     "name": "stdout",
     "output_type": "stream",
     "text": [
      "a and b are equal\n"
     ]
    }
   ],
   "source": [
    "a=33\n",
    "b=33\n",
    "if a>b:                 # if statement error then go to elif statement condition is true then execeute\n",
    "    print(\"a is big\")\n",
    "elif a==b:\n",
    "    print(\"a and b are equal\")\n",
    "else:\n",
    "    print(\"b is big\")"
   ]
  },
  {
   "cell_type": "markdown",
   "id": "bc397951",
   "metadata": {},
   "source": [
    "# short hand if...else"
   ]
  },
  {
   "cell_type": "code",
   "execution_count": 16,
   "id": "1282d447",
   "metadata": {},
   "outputs": [
    {
     "name": "stdout",
     "output_type": "stream",
     "text": [
      "b is big\n"
     ]
    }
   ],
   "source": [
    "a,b=32,33\n",
    "print(\"a is big\")if a>b else print(\"b is big\") # write an one line"
   ]
  },
  {
   "cell_type": "markdown",
   "id": "bb192bb8",
   "metadata": {},
   "source": [
    "# Operarators"
   ]
  },
  {
   "cell_type": "markdown",
   "id": "89cf68f8",
   "metadata": {},
   "source": [
    "# and"
   ]
  },
  {
   "cell_type": "code",
   "execution_count": 17,
   "id": "a9b8514a",
   "metadata": {},
   "outputs": [
    {
     "name": "stdout",
     "output_type": "stream",
     "text": [
      "Both conditions are True\n"
     ]
    }
   ],
   "source": [
    "a = 200\n",
    "b = 33\n",
    "c = 500\n",
    "if a > b and c > a:                   # The first and second condition are true the exceute the statement\n",
    "    print(\"Both conditions are True\")\n"
   ]
  },
  {
   "cell_type": "markdown",
   "id": "e12ac72a",
   "metadata": {},
   "source": [
    "# or"
   ]
  },
  {
   "cell_type": "code",
   "execution_count": 18,
   "id": "1dc6195f",
   "metadata": {},
   "outputs": [
    {
     "name": "stdout",
     "output_type": "stream",
     "text": [
      "At least one of the conditions is True\n"
     ]
    }
   ],
   "source": [
    "a = 200\n",
    "b = 33\n",
    "c = 500\n",
    "if a > b or a > c:                                  # Any one condition is true then execute the condition\n",
    "    print(\"At least one of the conditions is True\")"
   ]
  },
  {
   "cell_type": "markdown",
   "id": "42103fb9",
   "metadata": {},
   "source": [
    "# Nested if"
   ]
  },
  {
   "cell_type": "code",
   "execution_count": 19,
   "id": "2e95037c",
   "metadata": {},
   "outputs": [
    {
     "name": "stdout",
     "output_type": "stream",
     "text": [
      "Above ten,\n",
      "and also above 20!\n"
     ]
    }
   ],
   "source": [
    "x = 41\n",
    "if x > 10:\n",
    "    print(\"Above ten,\")\n",
    "if x > 20:\n",
    "    print(\"and also above 20!\")\n",
    "else:\n",
    "    print(\"but not above 20.\")"
   ]
  },
  {
   "cell_type": "markdown",
   "id": "6200ecd9",
   "metadata": {},
   "source": [
    "# python while loops\n",
    "    With the while loop we can execute a set of statements as long as a condition is true."
   ]
  },
  {
   "cell_type": "code",
   "execution_count": 20,
   "id": "59306479",
   "metadata": {},
   "outputs": [
    {
     "name": "stdout",
     "output_type": "stream",
     "text": [
      "1\n",
      "2\n",
      "3\n",
      "4\n"
     ]
    }
   ],
   "source": [
    "i = 1\n",
    "while i<5:      # first four numbers are printed one by one\n",
    "    print(i)\n",
    "    i += 1"
   ]
  },
  {
   "cell_type": "markdown",
   "id": "517e3777",
   "metadata": {},
   "source": [
    "# break in while loop"
   ]
  },
  {
   "cell_type": "code",
   "execution_count": 21,
   "id": "2aded954",
   "metadata": {
    "scrolled": true
   },
   "outputs": [
    {
     "name": "stdout",
     "output_type": "stream",
     "text": [
      "1\n",
      "2\n",
      "3\n"
     ]
    }
   ],
   "source": [
    "i = 1\n",
    "while i < 6:   # break the condition if i is equal 3\n",
    "    print(i)\n",
    "    if i == 3:\n",
    "        break\n",
    "    i += 1"
   ]
  },
  {
   "cell_type": "markdown",
   "id": "fdc184e5",
   "metadata": {},
   "source": [
    "# continue in while loop"
   ]
  },
  {
   "cell_type": "code",
   "execution_count": 13,
   "id": "e75dcea1",
   "metadata": {},
   "outputs": [
    {
     "name": "stdout",
     "output_type": "stream",
     "text": [
      "1\n",
      "2\n",
      "4\n",
      "5\n",
      "6\n"
     ]
    }
   ],
   "source": [
    "i = 0\n",
    "while i < 6:     #  Continue to the next iteration if i is 3\n",
    "    i += 1\n",
    "    if i == 3:   # not print 3\n",
    "        continue\n",
    "    print(i)"
   ]
  },
  {
   "cell_type": "markdown",
   "id": "8dd64652",
   "metadata": {},
   "source": [
    "# else in while loop"
   ]
  },
  {
   "cell_type": "code",
   "execution_count": 26,
   "id": "621431a2",
   "metadata": {},
   "outputs": [
    {
     "name": "stdout",
     "output_type": "stream",
     "text": [
      "0\n",
      "1\n",
      "2\n",
      "3\n",
      "4\n",
      "5\n",
      "i is above 6\n"
     ]
    }
   ],
   "source": [
    "i=0\n",
    "while i<6:\n",
    "    print(i)\n",
    "    i=i+1\n",
    "else:\n",
    "    print(\"i is above 6\")"
   ]
  },
  {
   "cell_type": "markdown",
   "id": "9109fe6b",
   "metadata": {},
   "source": [
    "# python for loop"
   ]
  },
  {
   "cell_type": "code",
   "execution_count": 43,
   "id": "6a28b066",
   "metadata": {},
   "outputs": [
    {
     "name": "stdout",
     "output_type": "stream",
     "text": [
      "MahendraN"
     ]
    }
   ],
   "source": [
    "for x in \"MahendraN\":\n",
    "    print(x,end='')   # end='' use for the values printed in single line "
   ]
  },
  {
   "cell_type": "code",
   "execution_count": 45,
   "id": "b063a730",
   "metadata": {},
   "outputs": [
    {
     "name": "stdout",
     "output_type": "stream",
     "text": [
      "apple\n",
      "banana\n",
      "cherry\n"
     ]
    }
   ],
   "source": [
    "fruits = [\"apple\", \"banana\", \"cherry\"]\n",
    "for x in fruits:                       # for loop in list\n",
    "    print(x)\n"
   ]
  },
  {
   "cell_type": "markdown",
   "id": "6db201cd",
   "metadata": {},
   "source": [
    "# break in for loop"
   ]
  },
  {
   "cell_type": "code",
   "execution_count": 59,
   "id": "3603579c",
   "metadata": {},
   "outputs": [
    {
     "name": "stdout",
     "output_type": "stream",
     "text": [
      "a\n",
      "b\n",
      "c\n"
     ]
    }
   ],
   "source": [
    "alp=[\"a\",\"b\",\"c\",\"d\",\"e\"]\n",
    "for x in alp:\n",
    "    if x==\"d\":            # The condition is equal to \"d\" then break the condtion\n",
    "        break\n",
    "    print(x)   "
   ]
  },
  {
   "cell_type": "markdown",
   "id": "396a05bb",
   "metadata": {},
   "source": [
    "# continue in for loop"
   ]
  },
  {
   "cell_type": "code",
   "execution_count": 60,
   "id": "a5f710f8",
   "metadata": {},
   "outputs": [
    {
     "name": "stdout",
     "output_type": "stream",
     "text": [
      "a\n",
      "b\n",
      "c\n",
      "e\n"
     ]
    }
   ],
   "source": [
    "alp=[\"a\",\"b\",\"c\",\"d\",\"e\"]\n",
    "for x in alp:\n",
    "    if x==\"d\":            # The condition is equal to \"d\" then break the condtion\n",
    "        continue\n",
    "    print(x)"
   ]
  },
  {
   "cell_type": "markdown",
   "id": "44a32b9f",
   "metadata": {},
   "source": [
    "# range() function in for loop "
   ]
  },
  {
   "cell_type": "code",
   "execution_count": 67,
   "id": "57955fb6",
   "metadata": {},
   "outputs": [
    {
     "name": "stdout",
     "output_type": "stream",
     "text": [
      "0\n",
      "1\n",
      "2\n",
      "3\n",
      "4\n",
      "5\n",
      "6\n",
      "7\n",
      "8\n",
      "9\n",
      "10\n",
      "11\n",
      "12\n",
      "13\n",
      "14\n",
      "15\n"
     ]
    }
   ],
   "source": [
    "for x in range(16): # print the range from 0 to 15\n",
    "    print(x)  "
   ]
  },
  {
   "cell_type": "code",
   "execution_count": 69,
   "id": "a552c36c",
   "metadata": {},
   "outputs": [
    {
     "name": "stdout",
     "output_type": "stream",
     "text": [
      "1\n",
      "2\n",
      "3\n",
      "4\n",
      "5\n",
      "6\n",
      "7\n",
      "8\n",
      "9\n",
      "10\n",
      "11\n",
      "12\n",
      "13\n",
      "14\n",
      "15\n"
     ]
    }
   ],
   "source": [
    "for x in range(1,16): # starting point is 1 and ending is 15\n",
    "    print(x)"
   ]
  },
  {
   "cell_type": "code",
   "execution_count": 72,
   "id": "e0a5f4bb",
   "metadata": {},
   "outputs": [
    {
     "name": "stdout",
     "output_type": "stream",
     "text": [
      "1\n",
      "3\n",
      "5\n",
      "7\n",
      "9\n",
      "11\n",
      "13\n",
      "15\n"
     ]
    }
   ],
   "source": [
    "for x in range(1,16,2):  # increment the value 2 from 1 to 15\n",
    "    print(x)"
   ]
  },
  {
   "cell_type": "markdown",
   "id": "360df9d7",
   "metadata": {},
   "source": [
    "# else in for loop"
   ]
  },
  {
   "cell_type": "code",
   "execution_count": 73,
   "id": "9fd3c5d4",
   "metadata": {},
   "outputs": [
    {
     "name": "stdout",
     "output_type": "stream",
     "text": [
      "0\n",
      "1\n",
      "2\n",
      "3\n",
      "4\n",
      "5\n",
      "6\n",
      "7\n",
      "8\n",
      "9\n",
      "10\n",
      "11\n",
      "12\n",
      "13\n",
      "14\n",
      "15\n",
      "The range is above \n"
     ]
    }
   ],
   "source": [
    "for x in range(16):\n",
    "    print(x)\n",
    "else:\n",
    "    print(\"The range is above \")"
   ]
  },
  {
   "cell_type": "markdown",
   "id": "be41ec2b",
   "metadata": {},
   "source": [
    "# if in for loop"
   ]
  },
  {
   "cell_type": "code",
   "execution_count": 93,
   "id": "6b73c5a2",
   "metadata": {},
   "outputs": [
    {
     "name": "stdout",
     "output_type": "stream",
     "text": [
      "0\n",
      "1\n",
      "2\n",
      "3\n"
     ]
    }
   ],
   "source": [
    "for x in range(6):\n",
    "    if x==4:\n",
    "        break\n",
    "    print(x)   "
   ]
  },
  {
   "cell_type": "markdown",
   "id": "909b916e",
   "metadata": {},
   "source": [
    "# Nested loop in for loop"
   ]
  },
  {
   "cell_type": "code",
   "execution_count": 98,
   "id": "a91679b5",
   "metadata": {},
   "outputs": [
    {
     "name": "stdout",
     "output_type": "stream",
     "text": [
      "red apple\n",
      "red banana\n",
      "red cherry\n",
      "big apple\n",
      "big banana\n",
      "big cherry\n",
      "tasty apple\n",
      "tasty banana\n",
      "tasty cherry\n"
     ]
    }
   ],
   "source": [
    "adj = [\"red\", \"big\", \"tasty\"]\n",
    "fruits = [\"apple\", \"banana\", \"cherry\"]\n",
    "for x in adj:\n",
    "    for y in fruits:\n",
    "        print(x, y)\n"
   ]
  },
  {
   "cell_type": "markdown",
   "id": "b720bd33",
   "metadata": {},
   "source": [
    "# pass statement in for loop"
   ]
  },
  {
   "cell_type": "code",
   "execution_count": 102,
   "id": "9a171c2e",
   "metadata": {},
   "outputs": [],
   "source": [
    "for x in [0, 1, 2]:  # put in the pass statement to avoid getting an error. \n",
    "    pass"
   ]
  },
  {
   "cell_type": "code",
   "execution_count": null,
   "id": "c4da73e4",
   "metadata": {},
   "outputs": [],
   "source": []
  }
 ],
 "metadata": {
  "kernelspec": {
   "display_name": "Python 3 (ipykernel)",
   "language": "python",
   "name": "python3"
  },
  "language_info": {
   "codemirror_mode": {
    "name": "ipython",
    "version": 3
   },
   "file_extension": ".py",
   "mimetype": "text/x-python",
   "name": "python",
   "nbconvert_exporter": "python",
   "pygments_lexer": "ipython3",
   "version": "3.9.12"
  }
 },
 "nbformat": 4,
 "nbformat_minor": 5
}
