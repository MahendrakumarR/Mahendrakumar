{
 "cells": [
  {
   "cell_type": "markdown",
   "id": "bdac2864",
   "metadata": {},
   "source": [
    "# Sets"
   ]
  },
  {
   "cell_type": "markdown",
   "id": "fac946f2",
   "metadata": {},
   "source": [
    "# Python sets are:\n",
    "    Unordered               Ex:-{3,2,4,5,0,1....}\n",
    "    Unchangeable            Ex:-{\"a\",\"b\",\"c\",\"d\"}\n",
    "    Duplicates Not Allowed  Ex:-{\"a\",\"a\"} Not use double a"
   ]
  },
  {
   "cell_type": "code",
   "execution_count": 1,
   "id": "157da314",
   "metadata": {},
   "outputs": [
    {
     "name": "stdout",
     "output_type": "stream",
     "text": [
      "{'c', 'a', 'b', 'd'}\n"
     ]
    }
   ],
   "source": [
    "set={\"a\",\"b\",\"c\",\"d\"} # sets are written with curly brackets\n",
    "print(set)"
   ]
  },
  {
   "cell_type": "code",
   "execution_count": 2,
   "id": "3ab3a1af",
   "metadata": {},
   "outputs": [
    {
     "name": "stdout",
     "output_type": "stream",
     "text": [
      "3\n"
     ]
    }
   ],
   "source": [
    "set={\"apple\",\"banana\",\"cherry\"}\n",
    "print(len(set))"
   ]
  },
  {
   "cell_type": "markdown",
   "id": "72c26dbe",
   "metadata": {},
   "source": [
    "# set data types"
   ]
  },
  {
   "cell_type": "code",
   "execution_count": 3,
   "id": "9a6b4e1d",
   "metadata": {},
   "outputs": [
    {
     "name": "stdout",
     "output_type": "stream",
     "text": [
      "{1, 1.2, 'a'}\n"
     ]
    }
   ],
   "source": [
    "set={1,1.2,\"a\",True}\n",
    "print(set)"
   ]
  },
  {
   "cell_type": "code",
   "execution_count": 4,
   "id": "57a078aa",
   "metadata": {},
   "outputs": [
    {
     "name": "stdout",
     "output_type": "stream",
     "text": [
      "<class 'set'>\n"
     ]
    }
   ],
   "source": [
    "set={\"a\",\"b\",\"c\",\"d\"}\n",
    "print(type(set))"
   ]
  },
  {
   "cell_type": "markdown",
   "id": "87d848a5",
   "metadata": {},
   "source": [
    "# Accessing Python set"
   ]
  },
  {
   "cell_type": "code",
   "execution_count": 5,
   "id": "7b300f8b",
   "metadata": {},
   "outputs": [
    {
     "name": "stdout",
     "output_type": "stream",
     "text": [
      "c\n",
      "a\n",
      "b\n",
      "d\n"
     ]
    }
   ],
   "source": [
    "set={\"a\",\"b\",\"c\",\"d\"}\n",
    "for x in set:\n",
    "    print(x)"
   ]
  },
  {
   "cell_type": "code",
   "execution_count": 6,
   "id": "b9b57f15",
   "metadata": {},
   "outputs": [
    {
     "name": "stdout",
     "output_type": "stream",
     "text": [
      "yes, a is present\n"
     ]
    }
   ],
   "source": [
    "set={\"a\",\"b\",\"c\",\"d\"}\n",
    "if \"c\" in set:\n",
    "    print(\"yes, a is present\")\n",
    "else:\n",
    "    print(\"No,The string/number is not present\")"
   ]
  },
  {
   "cell_type": "markdown",
   "id": "8bbeaebf",
   "metadata": {},
   "source": [
    "# add & remove items in set"
   ]
  },
  {
   "cell_type": "code",
   "execution_count": 7,
   "id": "0133ae8e",
   "metadata": {},
   "outputs": [
    {
     "name": "stdout",
     "output_type": "stream",
     "text": [
      "{'d', 'e', 'b', 'c', 'a'}\n"
     ]
    }
   ],
   "source": [
    "set={\"a\",\"b\",\"c\",\"d\"}\n",
    "set.add(\"e\")\n",
    "print(set)"
   ]
  },
  {
   "cell_type": "code",
   "execution_count": 8,
   "id": "14491ae6",
   "metadata": {},
   "outputs": [
    {
     "name": "stdout",
     "output_type": "stream",
     "text": [
      "{'d', 'e', 'f', 'b', 'c', 'a'}\n"
     ]
    }
   ],
   "source": [
    "set={\"a\",\"b\",\"c\",\"d\"}\n",
    "lst=[\"e\",\"f\"]\n",
    "set.update(lst)       # update a list elements\n",
    "print(set)"
   ]
  },
  {
   "cell_type": "code",
   "execution_count": null,
   "id": "619741b9",
   "metadata": {},
   "outputs": [],
   "source": []
  },
  {
   "cell_type": "code",
   "execution_count": 9,
   "id": "dd801940",
   "metadata": {},
   "outputs": [
    {
     "name": "stdout",
     "output_type": "stream",
     "text": [
      "{'a', 'b', 'd'}\n"
     ]
    }
   ],
   "source": [
    "set={\"a\",\"b\",\"c\",\"d\"}\n",
    "set.pop()             # Only the last element are deleted\n",
    "print(set)"
   ]
  },
  {
   "cell_type": "code",
   "execution_count": 10,
   "id": "da4b2dad",
   "metadata": {},
   "outputs": [
    {
     "name": "stdout",
     "output_type": "stream",
     "text": [
      "{'c', 'a', 'b'}\n"
     ]
    }
   ],
   "source": [
    "set={\"a\",\"b\",\"c\",\"d\"}\n",
    "set.remove(\"d\")       # remove the element of d\n",
    "print(set)"
   ]
  },
  {
   "cell_type": "code",
   "execution_count": 11,
   "id": "75152528",
   "metadata": {},
   "outputs": [
    {
     "name": "stdout",
     "output_type": "stream",
     "text": [
      "{'a', 'b', 'd'}\n"
     ]
    }
   ],
   "source": [
    "set={\"a\",\"b\",\"c\",\"d\"}\n",
    "set.discard(\"c\")      # remove the element of c       \n",
    "print(set)"
   ]
  },
  {
   "cell_type": "code",
   "execution_count": 12,
   "id": "f03f42b1",
   "metadata": {},
   "outputs": [
    {
     "name": "stdout",
     "output_type": "stream",
     "text": [
      "c\n",
      "{'a', 'b', 'd'}\n"
     ]
    }
   ],
   "source": [
    "set={\"a\",\"b\",\"c\",\"d\"}\n",
    "x=set.pop()           # x print the deleted element\n",
    "print(x) \n",
    "print(set)"
   ]
  },
  {
   "cell_type": "code",
   "execution_count": 13,
   "id": "549d6d42",
   "metadata": {},
   "outputs": [
    {
     "name": "stdout",
     "output_type": "stream",
     "text": [
      "set()\n"
     ]
    }
   ],
   "source": [
    "set={\"a\",\"b\",\"c\",\"d\"}\n",
    "set.clear()            # clear the  set elements \n",
    "print(set)"
   ]
  },
  {
   "cell_type": "code",
   "execution_count": 14,
   "id": "4b95b8de",
   "metadata": {},
   "outputs": [
    {
     "name": "stdout",
     "output_type": "stream",
     "text": [
      "<class 'set'>\n"
     ]
    }
   ],
   "source": [
    "set={\"a\",\"b\",\"c\",\"d\"}\n",
    "del set               # delete the elements in the set\n",
    "print(set)"
   ]
  },
  {
   "cell_type": "markdown",
   "id": "398b562e",
   "metadata": {},
   "source": [
    "# Loops"
   ]
  },
  {
   "cell_type": "code",
   "execution_count": 15,
   "id": "420a46f4",
   "metadata": {},
   "outputs": [
    {
     "name": "stdout",
     "output_type": "stream",
     "text": [
      "c\n",
      "a\n",
      "b\n",
      "d\n"
     ]
    }
   ],
   "source": [
    "set={\"a\",\"b\",\"c\",\"d\"}\n",
    "for x in set:\n",
    "    print(x)"
   ]
  },
  {
   "cell_type": "markdown",
   "id": "0a532198",
   "metadata": {},
   "source": [
    "# Keep only the duplicates"
   ]
  },
  {
   "cell_type": "code",
   "execution_count": 16,
   "id": "2dc690f9",
   "metadata": {},
   "outputs": [
    {
     "name": "stdout",
     "output_type": "stream",
     "text": [
      "{'a'}\n"
     ]
    }
   ],
   "source": [
    "set={\"a\",\"b\",\"c\",\"d\"}\n",
    "set2={\"e\",\"f\",\"g\",\"a\"}   \n",
    "set.intersection_update(set2)  # identify the duplicate value in sets\n",
    "print(set)"
   ]
  },
  {
   "cell_type": "markdown",
   "id": "f7f9c3f1",
   "metadata": {},
   "source": [
    "# Keep all but not the duplicates"
   ]
  },
  {
   "cell_type": "code",
   "execution_count": 17,
   "id": "9cb57c1b",
   "metadata": {},
   "outputs": [
    {
     "name": "stdout",
     "output_type": "stream",
     "text": [
      "{'d', 'e', 'g', 'f', 'b', 'c'}\n"
     ]
    }
   ],
   "source": [
    "set={\"a\",\"b\",\"c\",\"d\"}\n",
    "set2={\"e\",\"f\",\"g\",\"a\"}   \n",
    "set.symmetric_difference_update(set2)  # The duplicate value not print in sets\n",
    "print(set)"
   ]
  },
  {
   "cell_type": "markdown",
   "id": "7ce5bf1a",
   "metadata": {},
   "source": [
    "# join sets"
   ]
  },
  {
   "cell_type": "code",
   "execution_count": 18,
   "id": "09f04ece",
   "metadata": {},
   "outputs": [
    {
     "name": "stdout",
     "output_type": "stream",
     "text": [
      "{'d', 'e', 'g', 'f', 'b', 'c', 'a'}\n"
     ]
    }
   ],
   "source": [
    "set1={\"a\",\"b\",\"c\",\"d\"}\n",
    "set2={\"e\",\"f\",\"g\",\"a\"}\n",
    "set3=set1.union(set2)   # join the two sets\n",
    "print(set3)"
   ]
  },
  {
   "cell_type": "markdown",
   "id": "3d029801",
   "metadata": {},
   "source": [
    "# set methods in python"
   ]
  },
  {
   "cell_type": "code",
   "execution_count": 19,
   "id": "6a5d9c72",
   "metadata": {},
   "outputs": [
    {
     "name": "stdout",
     "output_type": "stream",
     "text": [
      "{'d', 'e', 'b', 'c', 'a'}\n"
     ]
    }
   ],
   "source": [
    "set={\"a\",\"b\",\"c\",\"d\"}\n",
    "set.add(\"e\")            # Add the element in the set\n",
    "print(set) "
   ]
  },
  {
   "cell_type": "code",
   "execution_count": 20,
   "id": "65c32c9b",
   "metadata": {},
   "outputs": [
    {
     "name": "stdout",
     "output_type": "stream",
     "text": [
      "set()\n"
     ]
    }
   ],
   "source": [
    "set={\"a\",\"b\",\"c\",\"d\"}\n",
    "set.clear()            # clear the element in the set\n",
    "print(set)"
   ]
  },
  {
   "cell_type": "code",
   "execution_count": 21,
   "id": "8059d74b",
   "metadata": {},
   "outputs": [
    {
     "name": "stdout",
     "output_type": "stream",
     "text": [
      "{'c', 'a', 'b', 'd'}\n"
     ]
    }
   ],
   "source": [
    "set={\"a\",\"b\",\"c\",\"d\"}\n",
    "set1.copy()            # copy  the elements in the set1 and print that\n",
    "print(set1)"
   ]
  },
  {
   "cell_type": "code",
   "execution_count": 22,
   "id": "aa2753f4",
   "metadata": {},
   "outputs": [
    {
     "name": "stdout",
     "output_type": "stream",
     "text": [
      "True\n"
     ]
    }
   ],
   "source": [
    "set={\"a\",\"b\",\"c\",\"d\"}\n",
    "set2={1,2,3,4}\n",
    "set3=set.isdisjoint(set2)            # Whether two sets have a intersection or not\n",
    "print(set3)"
   ]
  },
  {
   "cell_type": "code",
   "execution_count": null,
   "id": "6ee531de",
   "metadata": {},
   "outputs": [],
   "source": []
  },
  {
   "cell_type": "code",
   "execution_count": null,
   "id": "08cdb300",
   "metadata": {},
   "outputs": [],
   "source": []
  }
 ],
 "metadata": {
  "kernelspec": {
   "display_name": "Python 3 (ipykernel)",
   "language": "python",
   "name": "python3"
  },
  "language_info": {
   "codemirror_mode": {
    "name": "ipython",
    "version": 3
   },
   "file_extension": ".py",
   "mimetype": "text/x-python",
   "name": "python",
   "nbconvert_exporter": "python",
   "pygments_lexer": "ipython3",
   "version": "3.9.12"
  }
 },
 "nbformat": 4,
 "nbformat_minor": 5
}
