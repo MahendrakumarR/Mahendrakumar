{
 "cells": [
  {
   "cell_type": "markdown",
   "id": "14fb1c6b",
   "metadata": {},
   "source": [
    "# String Operations"
   ]
  },
  {
   "cell_type": "code",
   "execution_count": 1,
   "id": "028b0864",
   "metadata": {},
   "outputs": [
    {
     "name": "stdout",
     "output_type": "stream",
     "text": [
      "Hi Hello\n"
     ]
    }
   ],
   "source": [
    "var=\"Hi Hello\"\n",
    "print(var)"
   ]
  },
  {
   "cell_type": "code",
   "execution_count": 5,
   "id": "b678cfd2",
   "metadata": {},
   "outputs": [
    {
     "name": "stdout",
     "output_type": "stream",
     "text": [
      "H\n",
      "i\n",
      " \n"
     ]
    }
   ],
   "source": [
    "print(var[0]) # H is printed because index position is 0 \n",
    "print(var[1]) # i is printed index position is 1\n",
    "print(var[2]) # The white space is printed index position is 2"
   ]
  },
  {
   "cell_type": "code",
   "execution_count": 35,
   "id": "d4cb36ac",
   "metadata": {},
   "outputs": [
    {
     "name": "stdout",
     "output_type": "stream",
     "text": [
      "Hi\n",
      "Hello\n",
      "i \n",
      "o\n",
      "el\n",
      "olleH iH\n"
     ]
    }
   ],
   "source": [
    "print(var[:2]) # 0 and 1 index positions are printed \n",
    "print(var[3:]) # omit first three index positions\n",
    "print(var[1:3]) # i only printed\n",
    "print(var[-1]) # -1 is printed last index position\n",
    "print(var[-4:-2])\n",
    "print(var[::-1]) # reverse print use :: with -1"
   ]
  },
  {
   "cell_type": "code",
   "execution_count": 36,
   "id": "e1561576",
   "metadata": {},
   "outputs": [
    {
     "name": "stdout",
     "output_type": "stream",
     "text": [
      "Hi Hello\n"
     ]
    }
   ],
   "source": [
    "print(var[0:20]) # print full string no erro accure"
   ]
  },
  {
   "cell_type": "code",
   "execution_count": 37,
   "id": "140fdd0c",
   "metadata": {},
   "outputs": [
    {
     "data": {
      "text/plain": [
       "str"
      ]
     },
     "execution_count": 37,
     "metadata": {},
     "output_type": "execute_result"
    }
   ],
   "source": [
    "type(var) # type is used for the var is which data types"
   ]
  },
  {
   "cell_type": "code",
   "execution_count": 107,
   "id": "9efbdd4d",
   "metadata": {},
   "outputs": [
    {
     "name": "stdout",
     "output_type": "stream",
     "text": [
      "HiHello\n"
     ]
    }
   ],
   "source": [
    "str1 = \"Hi\"\n",
    "str2 = \"Hello\"\n",
    "print(str1+str2) # Add two String "
   ]
  },
  {
   "cell_type": "code",
   "execution_count": null,
   "id": "a4ff05af",
   "metadata": {},
   "outputs": [],
   "source": [
    "n = 1\n",
    "str = \"hi\"\n",
    "print(n+str) # Not Add number and string # only add string"
   ]
  },
  {
   "cell_type": "markdown",
   "id": "b615a0de",
   "metadata": {},
   "source": [
    "# Numbers "
   ]
  },
  {
   "cell_type": "code",
   "execution_count": 42,
   "id": "2280b072",
   "metadata": {},
   "outputs": [
    {
     "data": {
      "text/plain": [
       "int"
      ]
     },
     "execution_count": 42,
     "metadata": {},
     "output_type": "execute_result"
    }
   ],
   "source": [
    "n=2\n",
    "type(n) # n is integer type"
   ]
  },
  {
   "cell_type": "code",
   "execution_count": 43,
   "id": "9ee3843f",
   "metadata": {},
   "outputs": [
    {
     "data": {
      "text/plain": [
       "float"
      ]
     },
     "execution_count": 43,
     "metadata": {},
     "output_type": "execute_result"
    }
   ],
   "source": [
    "d=2.4\n",
    "type(d) # d is float type"
   ]
  },
  {
   "cell_type": "code",
   "execution_count": 58,
   "id": "cb5f2939",
   "metadata": {},
   "outputs": [
    {
     "data": {
      "text/plain": [
       "complex"
      ]
     },
     "execution_count": 58,
     "metadata": {},
     "output_type": "execute_result"
    }
   ],
   "source": [
    "k=2+4j\n",
    "type(k) # k is complex type"
   ]
  },
  {
   "cell_type": "code",
   "execution_count": 61,
   "id": "722a796a",
   "metadata": {},
   "outputs": [
    {
     "data": {
      "text/plain": [
       "2.0"
      ]
     },
     "execution_count": 61,
     "metadata": {},
     "output_type": "execute_result"
    }
   ],
   "source": [
    "k.real # Real of the complex in k"
   ]
  },
  {
   "cell_type": "code",
   "execution_count": 62,
   "id": "85651530",
   "metadata": {},
   "outputs": [
    {
     "data": {
      "text/plain": [
       "4.0"
      ]
     },
     "execution_count": 62,
     "metadata": {},
     "output_type": "execute_result"
    }
   ],
   "source": [
    "k.imag # imaginary of the complex in k\n"
   ]
  },
  {
   "cell_type": "code",
   "execution_count": 63,
   "id": "6d1a3e4a",
   "metadata": {},
   "outputs": [
    {
     "name": "stdout",
     "output_type": "stream",
     "text": [
      "45\n"
     ]
    }
   ],
   "source": [
    "num1=18\n",
    "num2=27\n",
    "print(num1+num2) # Add num1 and num2 "
   ]
  },
  {
   "cell_type": "code",
   "execution_count": 64,
   "id": "cec37bdd",
   "metadata": {},
   "outputs": [
    {
     "name": "stdout",
     "output_type": "stream",
     "text": [
      "-9\n"
     ]
    }
   ],
   "source": [
    "print(num1-num2) # subtract num1 and num2 "
   ]
  },
  {
   "cell_type": "code",
   "execution_count": 65,
   "id": "eb8d9fab",
   "metadata": {},
   "outputs": [
    {
     "name": "stdout",
     "output_type": "stream",
     "text": [
      "486\n"
     ]
    }
   ],
   "source": [
    "print(num1*num2) # multiply num1 and num2 "
   ]
  },
  {
   "cell_type": "code",
   "execution_count": 66,
   "id": "32145b8b",
   "metadata": {},
   "outputs": [
    {
     "name": "stdout",
     "output_type": "stream",
     "text": [
      "0.6666666666666666\n"
     ]
    }
   ],
   "source": [
    "print(num1/num2) # Divide num1 and num2 "
   ]
  },
  {
   "cell_type": "code",
   "execution_count": 70,
   "id": "3e309717",
   "metadata": {},
   "outputs": [
    {
     "name": "stdout",
     "output_type": "stream",
     "text": [
      "7.25\n",
      "7\n"
     ]
    }
   ],
   "source": [
    "print(29/4)\n",
    "print(29//4)# The // is used for print whole number without digits"
   ]
  },
  {
   "cell_type": "code",
   "execution_count": 75,
   "id": "6190a07b",
   "metadata": {},
   "outputs": [
    {
     "name": "stdout",
     "output_type": "stream",
     "text": [
      "100\n"
     ]
    }
   ],
   "source": [
    "print(10**2) # The 10 power of 2 is 100 printed"
   ]
  },
  {
   "cell_type": "code",
   "execution_count": 77,
   "id": "32144a06",
   "metadata": {},
   "outputs": [
    {
     "name": "stdout",
     "output_type": "stream",
     "text": [
      "1\n"
     ]
    }
   ],
   "source": [
    "print(10%3) # The Reminder is one"
   ]
  },
  {
   "cell_type": "markdown",
   "id": "be8baaaa",
   "metadata": {},
   "source": [
    "# Convertions"
   ]
  },
  {
   "cell_type": "code",
   "execution_count": 86,
   "id": "138f7304",
   "metadata": {},
   "outputs": [
    {
     "name": "stdout",
     "output_type": "stream",
     "text": [
      "2\n"
     ]
    }
   ],
   "source": [
    "x=2\n",
    "print(x) # x is integer"
   ]
  },
  {
   "cell_type": "code",
   "execution_count": 87,
   "id": "9c1149e6",
   "metadata": {},
   "outputs": [
    {
     "name": "stdout",
     "output_type": "stream",
     "text": [
      "2.0\n"
     ]
    }
   ],
   "source": [
    "x=float(x) # now x is float\n",
    "print(x)"
   ]
  },
  {
   "cell_type": "code",
   "execution_count": 91,
   "id": "643adb4a",
   "metadata": {},
   "outputs": [
    {
     "name": "stdout",
     "output_type": "stream",
     "text": [
      "x\n"
     ]
    }
   ],
   "source": [
    "str=\"x\" # now x is string\n",
    "print(str)"
   ]
  },
  {
   "cell_type": "code",
   "execution_count": 92,
   "id": "d5a7b0d2",
   "metadata": {},
   "outputs": [
    {
     "name": "stdout",
     "output_type": "stream",
     "text": [
      "(2+0j)\n"
     ]
    }
   ],
   "source": [
    "x=complex(x) # now x is complex\n",
    "print(x)"
   ]
  },
  {
   "cell_type": "code",
   "execution_count": 93,
   "id": "2f3a7307",
   "metadata": {},
   "outputs": [
    {
     "name": "stdout",
     "output_type": "stream",
     "text": [
      "(2+5j)\n"
     ]
    }
   ],
   "source": [
    "print(complex(2,5)) # The 2 and 5 store a complex number"
   ]
  },
  {
   "cell_type": "markdown",
   "id": "0cff6708",
   "metadata": {},
   "source": [
    "# Functions"
   ]
  },
  {
   "cell_type": "code",
   "execution_count": 94,
   "id": "c478df3b",
   "metadata": {},
   "outputs": [
    {
     "name": "stdout",
     "output_type": "stream",
     "text": [
      "3.8\n"
     ]
    }
   ],
   "source": [
    "x=-3.8\n",
    "print(abs(x)) # abs is used for negative to postive value"
   ]
  },
  {
   "cell_type": "code",
   "execution_count": 95,
   "id": "5f4bc2d8",
   "metadata": {},
   "outputs": [
    {
     "name": "stdout",
     "output_type": "stream",
     "text": [
      "22026.465794806718\n"
     ]
    }
   ],
   "source": [
    "import math # import the math function\n",
    "x=10\n",
    "print(math.exp(x))"
   ]
  },
  {
   "cell_type": "code",
   "execution_count": 96,
   "id": "57e3ee55",
   "metadata": {},
   "outputs": [
    {
     "data": {
      "text/plain": [
       "3.141592653589793"
      ]
     },
     "execution_count": 96,
     "metadata": {},
     "output_type": "execute_result"
    }
   ],
   "source": [
    "math.pi"
   ]
  },
  {
   "cell_type": "code",
   "execution_count": 97,
   "id": "f178d435",
   "metadata": {},
   "outputs": [
    {
     "name": "stdout",
     "output_type": "stream",
     "text": [
      "3.0\n"
     ]
    }
   ],
   "source": [
    "print(math.sqrt(9)) # 9 Square root is 3"
   ]
  },
  {
   "cell_type": "code",
   "execution_count": 101,
   "id": "e9c66d6d",
   "metadata": {},
   "outputs": [
    {
     "data": {
      "text/plain": [
       "47"
      ]
     },
     "execution_count": 101,
     "metadata": {},
     "output_type": "execute_result"
    }
   ],
   "source": [
    " max(22,13,47,25) # Maximum value printed"
   ]
  },
  {
   "cell_type": "code",
   "execution_count": 106,
   "id": "65101d71",
   "metadata": {},
   "outputs": [
    {
     "data": {
      "text/plain": [
       "12"
      ]
     },
     "execution_count": 106,
     "metadata": {},
     "output_type": "execute_result"
    }
   ],
   "source": [
    "min(12,31,28,19) # Minimum value printed"
   ]
  },
  {
   "cell_type": "code",
   "execution_count": null,
   "id": "ca416dce",
   "metadata": {},
   "outputs": [],
   "source": []
  },
  {
   "cell_type": "code",
   "execution_count": null,
   "id": "06e2a737",
   "metadata": {},
   "outputs": [],
   "source": []
  }
 ],
 "metadata": {
  "kernelspec": {
   "display_name": "Python 3 (ipykernel)",
   "language": "python",
   "name": "python3"
  },
  "language_info": {
   "codemirror_mode": {
    "name": "ipython",
    "version": 3
   },
   "file_extension": ".py",
   "mimetype": "text/x-python",
   "name": "python",
   "nbconvert_exporter": "python",
   "pygments_lexer": "ipython3",
   "version": "3.9.12"
  }
 },
 "nbformat": 4,
 "nbformat_minor": 5
}
